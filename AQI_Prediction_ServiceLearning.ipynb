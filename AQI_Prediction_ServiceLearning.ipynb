{
  "nbformat": 4,
  "nbformat_minor": 0,
  "metadata": {
    "colab": {
      "name": "AQI_Prediction_ServiceLearning.ipynb",
      "provenance": [],
      "collapsed_sections": [],
      "toc_visible": true,
      "authorship_tag": "ABX9TyOIS8uO4bpuWoPoH1x8INjV",
      "include_colab_link": true
    },
    "kernelspec": {
      "name": "python3",
      "display_name": "Python 3"
    }
  },
  "cells": [
    {
      "cell_type": "markdown",
      "metadata": {
        "id": "view-in-github",
        "colab_type": "text"
      },
      "source": [
        "<a href=\"https://colab.research.google.com/github/RoshanV1701/Air-Quality-Index-Prediction/blob/main/AQI_Prediction_ServiceLearning.ipynb\" target=\"_parent\"><img src=\"https://colab.research.google.com/assets/colab-badge.svg\" alt=\"Open In Colab\"/></a>"
      ]
    },
    {
      "cell_type": "code",
      "metadata": {
        "id": "ueJ6uxhju1uj"
      },
      "source": [
        "import numpy as np \n",
        "import pandas as pd \n",
        "import seaborn as sns\n",
        "import matplotlib.pyplot as plt\n",
        "%matplotlib inline\n",
        "import pickle"
      ],
      "execution_count": 64,
      "outputs": []
    },
    {
      "cell_type": "code",
      "metadata": {
        "id": "m7spFOFzOFhx",
        "outputId": "5d50f7c1-8da0-4577-a5fe-d3f7d7ae4a4f",
        "colab": {
          "base_uri": "https://localhost:8080/"
        }
      },
      "source": [
        "from google.colab import drive\n",
        "drive.mount('/content/gdrive')\n"
      ],
      "execution_count": 2,
      "outputs": [
        {
          "output_type": "stream",
          "text": [
            "Mounted at /content/gdrive\n"
          ],
          "name": "stdout"
        }
      ]
    },
    {
      "cell_type": "code",
      "metadata": {
        "id": "gSFrVnSFWX6i",
        "outputId": "d629498b-486e-4d88-8ad9-21149eb37194",
        "colab": {
          "base_uri": "https://localhost:8080/"
        }
      },
      "source": [
        "import os\n",
        "os.environ['KAGGLE_CONFIG_DIR'] = \"/content/gdrive/My Drive/Kaggle\"\n",
        "%cd /content/gdrive/My Drive/Kaggle\n",
        "\n"
      ],
      "execution_count": 9,
      "outputs": [
        {
          "output_type": "stream",
          "text": [
            "/content/gdrive/My Drive/Kaggle\n"
          ],
          "name": "stdout"
        }
      ]
    },
    {
      "cell_type": "code",
      "metadata": {
        "id": "OSaiSCJOWv7u",
        "outputId": "fe270217-feaf-49a5-f8bb-f3030620a8c7",
        "colab": {
          "base_uri": "https://localhost:8080/"
        }
      },
      "source": [
        "!kaggle datasets download -d shrutibhargava94/india-air-quality-data"
      ],
      "execution_count": 10,
      "outputs": [
        {
          "output_type": "stream",
          "text": [
            "Downloading india-air-quality-data.zip to /content/gdrive/My Drive/Kaggle\n",
            " 96% 5.00M/5.22M [00:00<00:00, 20.1MB/s]\n",
            "100% 5.22M/5.22M [00:00<00:00, 20.7MB/s]\n"
          ],
          "name": "stdout"
        }
      ]
    },
    {
      "cell_type": "code",
      "metadata": {
        "id": "B4QF2QIKW96W",
        "outputId": "505684f1-0b04-49b4-e93d-b5d462622664",
        "colab": {
          "base_uri": "https://localhost:8080/"
        }
      },
      "source": [
        "!ls\n",
        "!unzip \\*.zip  && rm *.zip\n"
      ],
      "execution_count": 11,
      "outputs": [
        {
          "output_type": "stream",
          "text": [
            "india-air-quality-data.zip  kaggle.json\n",
            "Archive:  india-air-quality-data.zip\n",
            "  inflating: data.csv                \n"
          ],
          "name": "stdout"
        }
      ]
    },
    {
      "cell_type": "code",
      "metadata": {
        "id": "3ACNEet_YA0U"
      },
      "source": [
        ""
      ],
      "execution_count": null,
      "outputs": []
    },
    {
      "cell_type": "code",
      "metadata": {
        "id": "ozZ-Yt8VYN7b",
        "outputId": "eb6c4da4-6f3a-459b-fdf1-15fe55a00e46",
        "colab": {
          "base_uri": "https://localhost:8080/"
        }
      },
      "source": [
        "data = pd.read_csv('data.csv', encoding='cp1252')\n"
      ],
      "execution_count": 14,
      "outputs": [
        {
          "output_type": "stream",
          "text": [
            "/usr/local/lib/python3.6/dist-packages/IPython/core/interactiveshell.py:2718: DtypeWarning: Columns (0) have mixed types.Specify dtype option on import or set low_memory=False.\n",
            "  interactivity=interactivity, compiler=compiler, result=result)\n"
          ],
          "name": "stderr"
        }
      ]
    },
    {
      "cell_type": "markdown",
      "metadata": {
        "id": "0xodzGbraixi"
      },
      "source": [
        "\n",
        "**PRELIMINARY DATA SET ANALYSIS**"
      ]
    },
    {
      "cell_type": "code",
      "metadata": {
        "id": "1ltbNuw8Yq1M",
        "outputId": "758bef9a-dff4-4953-ff61-eb6a37df3670",
        "colab": {
          "base_uri": "https://localhost:8080/",
          "height": 511
        }
      },
      "source": [
        "data.head(10)"
      ],
      "execution_count": 15,
      "outputs": [
        {
          "output_type": "execute_result",
          "data": {
            "text/html": [
              "<div>\n",
              "<style scoped>\n",
              "    .dataframe tbody tr th:only-of-type {\n",
              "        vertical-align: middle;\n",
              "    }\n",
              "\n",
              "    .dataframe tbody tr th {\n",
              "        vertical-align: top;\n",
              "    }\n",
              "\n",
              "    .dataframe thead th {\n",
              "        text-align: right;\n",
              "    }\n",
              "</style>\n",
              "<table border=\"1\" class=\"dataframe\">\n",
              "  <thead>\n",
              "    <tr style=\"text-align: right;\">\n",
              "      <th></th>\n",
              "      <th>stn_code</th>\n",
              "      <th>sampling_date</th>\n",
              "      <th>state</th>\n",
              "      <th>location</th>\n",
              "      <th>agency</th>\n",
              "      <th>type</th>\n",
              "      <th>so2</th>\n",
              "      <th>no2</th>\n",
              "      <th>rspm</th>\n",
              "      <th>spm</th>\n",
              "      <th>location_monitoring_station</th>\n",
              "      <th>pm2_5</th>\n",
              "      <th>date</th>\n",
              "    </tr>\n",
              "  </thead>\n",
              "  <tbody>\n",
              "    <tr>\n",
              "      <th>0</th>\n",
              "      <td>150</td>\n",
              "      <td>February - M021990</td>\n",
              "      <td>Andhra Pradesh</td>\n",
              "      <td>Hyderabad</td>\n",
              "      <td>NaN</td>\n",
              "      <td>Residential, Rural and other Areas</td>\n",
              "      <td>4.8</td>\n",
              "      <td>17.4</td>\n",
              "      <td>NaN</td>\n",
              "      <td>NaN</td>\n",
              "      <td>NaN</td>\n",
              "      <td>NaN</td>\n",
              "      <td>1990-02-01</td>\n",
              "    </tr>\n",
              "    <tr>\n",
              "      <th>1</th>\n",
              "      <td>151</td>\n",
              "      <td>February - M021990</td>\n",
              "      <td>Andhra Pradesh</td>\n",
              "      <td>Hyderabad</td>\n",
              "      <td>NaN</td>\n",
              "      <td>Industrial Area</td>\n",
              "      <td>3.1</td>\n",
              "      <td>7.0</td>\n",
              "      <td>NaN</td>\n",
              "      <td>NaN</td>\n",
              "      <td>NaN</td>\n",
              "      <td>NaN</td>\n",
              "      <td>1990-02-01</td>\n",
              "    </tr>\n",
              "    <tr>\n",
              "      <th>2</th>\n",
              "      <td>152</td>\n",
              "      <td>February - M021990</td>\n",
              "      <td>Andhra Pradesh</td>\n",
              "      <td>Hyderabad</td>\n",
              "      <td>NaN</td>\n",
              "      <td>Residential, Rural and other Areas</td>\n",
              "      <td>6.2</td>\n",
              "      <td>28.5</td>\n",
              "      <td>NaN</td>\n",
              "      <td>NaN</td>\n",
              "      <td>NaN</td>\n",
              "      <td>NaN</td>\n",
              "      <td>1990-02-01</td>\n",
              "    </tr>\n",
              "    <tr>\n",
              "      <th>3</th>\n",
              "      <td>150</td>\n",
              "      <td>March - M031990</td>\n",
              "      <td>Andhra Pradesh</td>\n",
              "      <td>Hyderabad</td>\n",
              "      <td>NaN</td>\n",
              "      <td>Residential, Rural and other Areas</td>\n",
              "      <td>6.3</td>\n",
              "      <td>14.7</td>\n",
              "      <td>NaN</td>\n",
              "      <td>NaN</td>\n",
              "      <td>NaN</td>\n",
              "      <td>NaN</td>\n",
              "      <td>1990-03-01</td>\n",
              "    </tr>\n",
              "    <tr>\n",
              "      <th>4</th>\n",
              "      <td>151</td>\n",
              "      <td>March - M031990</td>\n",
              "      <td>Andhra Pradesh</td>\n",
              "      <td>Hyderabad</td>\n",
              "      <td>NaN</td>\n",
              "      <td>Industrial Area</td>\n",
              "      <td>4.7</td>\n",
              "      <td>7.5</td>\n",
              "      <td>NaN</td>\n",
              "      <td>NaN</td>\n",
              "      <td>NaN</td>\n",
              "      <td>NaN</td>\n",
              "      <td>1990-03-01</td>\n",
              "    </tr>\n",
              "    <tr>\n",
              "      <th>5</th>\n",
              "      <td>152</td>\n",
              "      <td>March - M031990</td>\n",
              "      <td>Andhra Pradesh</td>\n",
              "      <td>Hyderabad</td>\n",
              "      <td>NaN</td>\n",
              "      <td>Residential, Rural and other Areas</td>\n",
              "      <td>6.4</td>\n",
              "      <td>25.7</td>\n",
              "      <td>NaN</td>\n",
              "      <td>NaN</td>\n",
              "      <td>NaN</td>\n",
              "      <td>NaN</td>\n",
              "      <td>1990-03-01</td>\n",
              "    </tr>\n",
              "    <tr>\n",
              "      <th>6</th>\n",
              "      <td>150</td>\n",
              "      <td>April - M041990</td>\n",
              "      <td>Andhra Pradesh</td>\n",
              "      <td>Hyderabad</td>\n",
              "      <td>NaN</td>\n",
              "      <td>Residential, Rural and other Areas</td>\n",
              "      <td>5.4</td>\n",
              "      <td>17.1</td>\n",
              "      <td>NaN</td>\n",
              "      <td>NaN</td>\n",
              "      <td>NaN</td>\n",
              "      <td>NaN</td>\n",
              "      <td>1990-04-01</td>\n",
              "    </tr>\n",
              "    <tr>\n",
              "      <th>7</th>\n",
              "      <td>151</td>\n",
              "      <td>April - M041990</td>\n",
              "      <td>Andhra Pradesh</td>\n",
              "      <td>Hyderabad</td>\n",
              "      <td>NaN</td>\n",
              "      <td>Industrial Area</td>\n",
              "      <td>4.7</td>\n",
              "      <td>8.7</td>\n",
              "      <td>NaN</td>\n",
              "      <td>NaN</td>\n",
              "      <td>NaN</td>\n",
              "      <td>NaN</td>\n",
              "      <td>1990-04-01</td>\n",
              "    </tr>\n",
              "    <tr>\n",
              "      <th>8</th>\n",
              "      <td>152</td>\n",
              "      <td>April - M041990</td>\n",
              "      <td>Andhra Pradesh</td>\n",
              "      <td>Hyderabad</td>\n",
              "      <td>NaN</td>\n",
              "      <td>Residential, Rural and other Areas</td>\n",
              "      <td>4.2</td>\n",
              "      <td>23.0</td>\n",
              "      <td>NaN</td>\n",
              "      <td>NaN</td>\n",
              "      <td>NaN</td>\n",
              "      <td>NaN</td>\n",
              "      <td>1990-04-01</td>\n",
              "    </tr>\n",
              "    <tr>\n",
              "      <th>9</th>\n",
              "      <td>151</td>\n",
              "      <td>May - M051990</td>\n",
              "      <td>Andhra Pradesh</td>\n",
              "      <td>Hyderabad</td>\n",
              "      <td>NaN</td>\n",
              "      <td>Industrial Area</td>\n",
              "      <td>4.0</td>\n",
              "      <td>8.9</td>\n",
              "      <td>NaN</td>\n",
              "      <td>NaN</td>\n",
              "      <td>NaN</td>\n",
              "      <td>NaN</td>\n",
              "      <td>1990-05-01</td>\n",
              "    </tr>\n",
              "  </tbody>\n",
              "</table>\n",
              "</div>"
            ],
            "text/plain": [
              "  stn_code       sampling_date  ... pm2_5        date\n",
              "0      150  February - M021990  ...   NaN  1990-02-01\n",
              "1      151  February - M021990  ...   NaN  1990-02-01\n",
              "2      152  February - M021990  ...   NaN  1990-02-01\n",
              "3      150     March - M031990  ...   NaN  1990-03-01\n",
              "4      151     March - M031990  ...   NaN  1990-03-01\n",
              "5      152     March - M031990  ...   NaN  1990-03-01\n",
              "6      150     April - M041990  ...   NaN  1990-04-01\n",
              "7      151     April - M041990  ...   NaN  1990-04-01\n",
              "8      152     April - M041990  ...   NaN  1990-04-01\n",
              "9      151       May - M051990  ...   NaN  1990-05-01\n",
              "\n",
              "[10 rows x 13 columns]"
            ]
          },
          "metadata": {
            "tags": []
          },
          "execution_count": 15
        }
      ]
    },
    {
      "cell_type": "code",
      "metadata": {
        "id": "qAXMt98OZjPi",
        "outputId": "a23a4141-974e-4924-bad1-fafc615c46fd",
        "colab": {
          "base_uri": "https://localhost:8080/",
          "height": 713
        }
      },
      "source": [
        "data.tail(10)"
      ],
      "execution_count": 16,
      "outputs": [
        {
          "output_type": "execute_result",
          "data": {
            "text/html": [
              "<div>\n",
              "<style scoped>\n",
              "    .dataframe tbody tr th:only-of-type {\n",
              "        vertical-align: middle;\n",
              "    }\n",
              "\n",
              "    .dataframe tbody tr th {\n",
              "        vertical-align: top;\n",
              "    }\n",
              "\n",
              "    .dataframe thead th {\n",
              "        text-align: right;\n",
              "    }\n",
              "</style>\n",
              "<table border=\"1\" class=\"dataframe\">\n",
              "  <thead>\n",
              "    <tr style=\"text-align: right;\">\n",
              "      <th></th>\n",
              "      <th>stn_code</th>\n",
              "      <th>sampling_date</th>\n",
              "      <th>state</th>\n",
              "      <th>location</th>\n",
              "      <th>agency</th>\n",
              "      <th>type</th>\n",
              "      <th>so2</th>\n",
              "      <th>no2</th>\n",
              "      <th>rspm</th>\n",
              "      <th>spm</th>\n",
              "      <th>location_monitoring_station</th>\n",
              "      <th>pm2_5</th>\n",
              "      <th>date</th>\n",
              "    </tr>\n",
              "  </thead>\n",
              "  <tbody>\n",
              "    <tr>\n",
              "      <th>435732</th>\n",
              "      <td>SAMP</td>\n",
              "      <td>09-12-15</td>\n",
              "      <td>West Bengal</td>\n",
              "      <td>ULUBERIA</td>\n",
              "      <td>West Bengal State Pollution Control Board</td>\n",
              "      <td>RIRUO</td>\n",
              "      <td>22.0</td>\n",
              "      <td>50.0</td>\n",
              "      <td>145.0</td>\n",
              "      <td>NaN</td>\n",
              "      <td>Inside Rampal Industries,ULUBERIA</td>\n",
              "      <td>NaN</td>\n",
              "      <td>2015-12-09</td>\n",
              "    </tr>\n",
              "    <tr>\n",
              "      <th>435733</th>\n",
              "      <td>SAMP</td>\n",
              "      <td>12-12-15</td>\n",
              "      <td>West Bengal</td>\n",
              "      <td>ULUBERIA</td>\n",
              "      <td>West Bengal State Pollution Control Board</td>\n",
              "      <td>RIRUO</td>\n",
              "      <td>34.0</td>\n",
              "      <td>61.0</td>\n",
              "      <td>161.0</td>\n",
              "      <td>NaN</td>\n",
              "      <td>Inside Rampal Industries,ULUBERIA</td>\n",
              "      <td>NaN</td>\n",
              "      <td>2015-12-12</td>\n",
              "    </tr>\n",
              "    <tr>\n",
              "      <th>435734</th>\n",
              "      <td>SAMP</td>\n",
              "      <td>15-12-15</td>\n",
              "      <td>West Bengal</td>\n",
              "      <td>ULUBERIA</td>\n",
              "      <td>West Bengal State Pollution Control Board</td>\n",
              "      <td>RIRUO</td>\n",
              "      <td>20.0</td>\n",
              "      <td>44.0</td>\n",
              "      <td>148.0</td>\n",
              "      <td>NaN</td>\n",
              "      <td>Inside Rampal Industries,ULUBERIA</td>\n",
              "      <td>NaN</td>\n",
              "      <td>2015-12-15</td>\n",
              "    </tr>\n",
              "    <tr>\n",
              "      <th>435735</th>\n",
              "      <td>SAMP</td>\n",
              "      <td>18-12-15</td>\n",
              "      <td>West Bengal</td>\n",
              "      <td>ULUBERIA</td>\n",
              "      <td>West Bengal State Pollution Control Board</td>\n",
              "      <td>RIRUO</td>\n",
              "      <td>17.0</td>\n",
              "      <td>44.0</td>\n",
              "      <td>131.0</td>\n",
              "      <td>NaN</td>\n",
              "      <td>Inside Rampal Industries,ULUBERIA</td>\n",
              "      <td>NaN</td>\n",
              "      <td>2015-12-18</td>\n",
              "    </tr>\n",
              "    <tr>\n",
              "      <th>435736</th>\n",
              "      <td>SAMP</td>\n",
              "      <td>21-12-15</td>\n",
              "      <td>West Bengal</td>\n",
              "      <td>ULUBERIA</td>\n",
              "      <td>West Bengal State Pollution Control Board</td>\n",
              "      <td>RIRUO</td>\n",
              "      <td>18.0</td>\n",
              "      <td>45.0</td>\n",
              "      <td>140.0</td>\n",
              "      <td>NaN</td>\n",
              "      <td>Inside Rampal Industries,ULUBERIA</td>\n",
              "      <td>NaN</td>\n",
              "      <td>2015-12-21</td>\n",
              "    </tr>\n",
              "    <tr>\n",
              "      <th>435737</th>\n",
              "      <td>SAMP</td>\n",
              "      <td>24-12-15</td>\n",
              "      <td>West Bengal</td>\n",
              "      <td>ULUBERIA</td>\n",
              "      <td>West Bengal State Pollution Control Board</td>\n",
              "      <td>RIRUO</td>\n",
              "      <td>22.0</td>\n",
              "      <td>50.0</td>\n",
              "      <td>143.0</td>\n",
              "      <td>NaN</td>\n",
              "      <td>Inside Rampal Industries,ULUBERIA</td>\n",
              "      <td>NaN</td>\n",
              "      <td>2015-12-24</td>\n",
              "    </tr>\n",
              "    <tr>\n",
              "      <th>435738</th>\n",
              "      <td>SAMP</td>\n",
              "      <td>29-12-15</td>\n",
              "      <td>West Bengal</td>\n",
              "      <td>ULUBERIA</td>\n",
              "      <td>West Bengal State Pollution Control Board</td>\n",
              "      <td>RIRUO</td>\n",
              "      <td>20.0</td>\n",
              "      <td>46.0</td>\n",
              "      <td>171.0</td>\n",
              "      <td>NaN</td>\n",
              "      <td>Inside Rampal Industries,ULUBERIA</td>\n",
              "      <td>NaN</td>\n",
              "      <td>2015-12-29</td>\n",
              "    </tr>\n",
              "    <tr>\n",
              "      <th>435739</th>\n",
              "      <td>NaN</td>\n",
              "      <td>NaN</td>\n",
              "      <td>andaman-and-nicobar-islands</td>\n",
              "      <td>NaN</td>\n",
              "      <td>NaN</td>\n",
              "      <td>NaN</td>\n",
              "      <td>NaN</td>\n",
              "      <td>NaN</td>\n",
              "      <td>NaN</td>\n",
              "      <td>NaN</td>\n",
              "      <td>NaN</td>\n",
              "      <td>NaN</td>\n",
              "      <td>NaN</td>\n",
              "    </tr>\n",
              "    <tr>\n",
              "      <th>435740</th>\n",
              "      <td>NaN</td>\n",
              "      <td>NaN</td>\n",
              "      <td>Lakshadweep</td>\n",
              "      <td>NaN</td>\n",
              "      <td>NaN</td>\n",
              "      <td>NaN</td>\n",
              "      <td>NaN</td>\n",
              "      <td>NaN</td>\n",
              "      <td>NaN</td>\n",
              "      <td>NaN</td>\n",
              "      <td>NaN</td>\n",
              "      <td>NaN</td>\n",
              "      <td>NaN</td>\n",
              "    </tr>\n",
              "    <tr>\n",
              "      <th>435741</th>\n",
              "      <td>NaN</td>\n",
              "      <td>NaN</td>\n",
              "      <td>Tripura</td>\n",
              "      <td>NaN</td>\n",
              "      <td>NaN</td>\n",
              "      <td>NaN</td>\n",
              "      <td>NaN</td>\n",
              "      <td>NaN</td>\n",
              "      <td>NaN</td>\n",
              "      <td>NaN</td>\n",
              "      <td>NaN</td>\n",
              "      <td>NaN</td>\n",
              "      <td>NaN</td>\n",
              "    </tr>\n",
              "  </tbody>\n",
              "</table>\n",
              "</div>"
            ],
            "text/plain": [
              "       stn_code sampling_date  ... pm2_5        date\n",
              "435732     SAMP      09-12-15  ...   NaN  2015-12-09\n",
              "435733     SAMP      12-12-15  ...   NaN  2015-12-12\n",
              "435734     SAMP      15-12-15  ...   NaN  2015-12-15\n",
              "435735     SAMP      18-12-15  ...   NaN  2015-12-18\n",
              "435736     SAMP      21-12-15  ...   NaN  2015-12-21\n",
              "435737     SAMP      24-12-15  ...   NaN  2015-12-24\n",
              "435738     SAMP      29-12-15  ...   NaN  2015-12-29\n",
              "435739      NaN           NaN  ...   NaN         NaN\n",
              "435740      NaN           NaN  ...   NaN         NaN\n",
              "435741      NaN           NaN  ...   NaN         NaN\n",
              "\n",
              "[10 rows x 13 columns]"
            ]
          },
          "metadata": {
            "tags": []
          },
          "execution_count": 16
        }
      ]
    },
    {
      "cell_type": "code",
      "metadata": {
        "id": "GfJl6-BUZurg",
        "outputId": "ae06311a-0139-4501-ff69-346758202e72",
        "colab": {
          "base_uri": "https://localhost:8080/",
          "height": 284
        }
      },
      "source": [
        "data.describe() "
      ],
      "execution_count": 17,
      "outputs": [
        {
          "output_type": "execute_result",
          "data": {
            "text/html": [
              "<div>\n",
              "<style scoped>\n",
              "    .dataframe tbody tr th:only-of-type {\n",
              "        vertical-align: middle;\n",
              "    }\n",
              "\n",
              "    .dataframe tbody tr th {\n",
              "        vertical-align: top;\n",
              "    }\n",
              "\n",
              "    .dataframe thead th {\n",
              "        text-align: right;\n",
              "    }\n",
              "</style>\n",
              "<table border=\"1\" class=\"dataframe\">\n",
              "  <thead>\n",
              "    <tr style=\"text-align: right;\">\n",
              "      <th></th>\n",
              "      <th>so2</th>\n",
              "      <th>no2</th>\n",
              "      <th>rspm</th>\n",
              "      <th>spm</th>\n",
              "      <th>pm2_5</th>\n",
              "    </tr>\n",
              "  </thead>\n",
              "  <tbody>\n",
              "    <tr>\n",
              "      <th>count</th>\n",
              "      <td>401096.000000</td>\n",
              "      <td>419509.000000</td>\n",
              "      <td>395520.000000</td>\n",
              "      <td>198355.000000</td>\n",
              "      <td>9314.000000</td>\n",
              "    </tr>\n",
              "    <tr>\n",
              "      <th>mean</th>\n",
              "      <td>10.829414</td>\n",
              "      <td>25.809623</td>\n",
              "      <td>108.832784</td>\n",
              "      <td>220.783480</td>\n",
              "      <td>40.791467</td>\n",
              "    </tr>\n",
              "    <tr>\n",
              "      <th>std</th>\n",
              "      <td>11.177187</td>\n",
              "      <td>18.503086</td>\n",
              "      <td>74.872430</td>\n",
              "      <td>151.395457</td>\n",
              "      <td>30.832525</td>\n",
              "    </tr>\n",
              "    <tr>\n",
              "      <th>min</th>\n",
              "      <td>0.000000</td>\n",
              "      <td>0.000000</td>\n",
              "      <td>0.000000</td>\n",
              "      <td>0.000000</td>\n",
              "      <td>3.000000</td>\n",
              "    </tr>\n",
              "    <tr>\n",
              "      <th>25%</th>\n",
              "      <td>5.000000</td>\n",
              "      <td>14.000000</td>\n",
              "      <td>56.000000</td>\n",
              "      <td>111.000000</td>\n",
              "      <td>24.000000</td>\n",
              "    </tr>\n",
              "    <tr>\n",
              "      <th>50%</th>\n",
              "      <td>8.000000</td>\n",
              "      <td>22.000000</td>\n",
              "      <td>90.000000</td>\n",
              "      <td>187.000000</td>\n",
              "      <td>32.000000</td>\n",
              "    </tr>\n",
              "    <tr>\n",
              "      <th>75%</th>\n",
              "      <td>13.700000</td>\n",
              "      <td>32.200000</td>\n",
              "      <td>142.000000</td>\n",
              "      <td>296.000000</td>\n",
              "      <td>46.000000</td>\n",
              "    </tr>\n",
              "    <tr>\n",
              "      <th>max</th>\n",
              "      <td>909.000000</td>\n",
              "      <td>876.000000</td>\n",
              "      <td>6307.033333</td>\n",
              "      <td>3380.000000</td>\n",
              "      <td>504.000000</td>\n",
              "    </tr>\n",
              "  </tbody>\n",
              "</table>\n",
              "</div>"
            ],
            "text/plain": [
              "                 so2            no2           rspm            spm        pm2_5\n",
              "count  401096.000000  419509.000000  395520.000000  198355.000000  9314.000000\n",
              "mean       10.829414      25.809623     108.832784     220.783480    40.791467\n",
              "std        11.177187      18.503086      74.872430     151.395457    30.832525\n",
              "min         0.000000       0.000000       0.000000       0.000000     3.000000\n",
              "25%         5.000000      14.000000      56.000000     111.000000    24.000000\n",
              "50%         8.000000      22.000000      90.000000     187.000000    32.000000\n",
              "75%        13.700000      32.200000     142.000000     296.000000    46.000000\n",
              "max       909.000000     876.000000    6307.033333    3380.000000   504.000000"
            ]
          },
          "metadata": {
            "tags": []
          },
          "execution_count": 17
        }
      ]
    },
    {
      "cell_type": "code",
      "metadata": {
        "id": "J31xQ8rKZ5UQ",
        "outputId": "fb865839-3517-4c6a-fd85-385716efedad",
        "colab": {
          "base_uri": "https://localhost:8080/"
        }
      },
      "source": [
        "data.shape"
      ],
      "execution_count": 18,
      "outputs": [
        {
          "output_type": "execute_result",
          "data": {
            "text/plain": [
              "(435742, 13)"
            ]
          },
          "metadata": {
            "tags": []
          },
          "execution_count": 18
        }
      ]
    },
    {
      "cell_type": "markdown",
      "metadata": {
        "id": "1kH9M_dBawX5"
      },
      "source": [
        "**PRELIMINARY DATA EXPLORATION AND VISUALIZATION**"
      ]
    },
    {
      "cell_type": "code",
      "metadata": {
        "id": "09uKlfgBagad",
        "outputId": "abf8f9d8-5a7d-4e10-ac32-e28a31dc35a8",
        "colab": {
          "base_uri": "https://localhost:8080/",
          "height": 379
        }
      },
      "source": [
        "data[['so2','state']].groupby([\"state\"]).mean().sort_values(by='so2').head(20).plot.bar(color='r')\n",
        "plt.show()"
      ],
      "execution_count": 20,
      "outputs": [
        {
          "output_type": "display_data",
          "data": {
            "image/png": "[encoded data removed]",
            "text/plain": [
              "<Figure size 432x288 with 1 Axes>"
            ]
          },
          "metadata": {
            "tags": [],
            "needs_background": "light"
          }
        }
      ]
    },
    {
      "cell_type": "code",
      "metadata": {
        "id": "bFl1rlzsa9iC",
        "outputId": "1e5a7fd8-f8f2-40c8-f967-d56c9abde5de",
        "colab": {
          "base_uri": "https://localhost:8080/",
          "height": 418
        }
      },
      "source": [
        "\n",
        "data[['no2','state']].groupby([\"state\"]).mean().sort_values(by='no2').plot.bar(color='g')\n",
        "plt.show()"
      ],
      "execution_count": 21,
      "outputs": [
        {
          "output_type": "display_data",
          "data": {
            "image/png": "[encoded data removed]",
            "text/plain": [
              "<Figure size 432x288 with 1 Axes>"
            ]
          },
          "metadata": {
            "tags": [],
            "needs_background": "light"
          }
        }
      ]
    },
    {
      "cell_type": "code",
      "metadata": {
        "id": "6aJsbqKXbE6k",
        "outputId": "a336f6b4-b212-4bd7-8492-10ca02ce5a69",
        "colab": {
          "base_uri": "https://localhost:8080/",
          "height": 418
        }
      },
      "source": [
        "data[['spm','state']].groupby([\"state\"]).mean().sort_values(by='spm').plot.bar(color='b')\n",
        "plt.show()"
      ],
      "execution_count": 22,
      "outputs": [
        {
          "output_type": "display_data",
          "data": {
            "image/png": "[encoded data removed]",
            "text/plain": [
              "<Figure size 432x288 with 1 Axes>"
            ]
          },
          "metadata": {
            "tags": [],
            "needs_background": "light"
          }
        }
      ]
    },
    {
      "cell_type": "code",
      "metadata": {
        "id": "58oCOIsobI9j",
        "outputId": "0726a0d7-0cff-4971-b34b-d897ce2ed2e7",
        "colab": {
          "base_uri": "https://localhost:8080/",
          "height": 418
        }
      },
      "source": [
        "data[['rspm','state']].groupby([\"state\"]).mean().sort_values(by='rspm').plot.bar(color='yellow')\n",
        "plt.show()"
      ],
      "execution_count": 24,
      "outputs": [
        {
          "output_type": "display_data",
          "data": {
            "image/png": "[encoded data removed]",
            "text/plain": [
              "<Figure size 432x288 with 1 Axes>"
            ]
          },
          "metadata": {
            "tags": [],
            "needs_background": "light"
          }
        }
      ]
    },
    {
      "cell_type": "code",
      "metadata": {
        "id": "tF8sA0FqbPkd",
        "outputId": "cf5c9200-18b4-48f4-8410-ae5e8640af55",
        "colab": {
          "base_uri": "https://localhost:8080/",
          "height": 418
        }
      },
      "source": [
        "data[['pm2_5','state']].groupby([\"state\"]).mean().sort_values(by='pm2_5').plot.bar(color='black')\n",
        "plt.show()\n"
      ],
      "execution_count": 25,
      "outputs": [
        {
          "output_type": "display_data",
          "data": {
            "image/png": "[encoded data removed]",
            "text/plain": [
              "<Figure size 432x288 with 1 Axes>"
            ]
          },
          "metadata": {
            "tags": [],
            "needs_background": "light"
          }
        }
      ]
    },
    {
      "cell_type": "markdown",
      "metadata": {
        "id": "aLs5CH-mhAeL"
      },
      "source": [
        "**DROPPING UNNECESSARY COLUMNS**"
      ]
    },
    {
      "cell_type": "code",
      "metadata": {
        "id": "kBg8iJbMb66W",
        "outputId": "ae30c9a2-2931-4dc5-8fce-832ce8072ce3",
        "colab": {
          "base_uri": "https://localhost:8080/"
        }
      },
      "source": [
        "data.isna().sum()"
      ],
      "execution_count": 26,
      "outputs": [
        {
          "output_type": "execute_result",
          "data": {
            "text/plain": [
              "stn_code                       144077\n",
              "sampling_date                       3\n",
              "state                               0\n",
              "location                            3\n",
              "agency                         149481\n",
              "type                             5393\n",
              "so2                             34646\n",
              "no2                             16233\n",
              "rspm                            40222\n",
              "spm                            237387\n",
              "location_monitoring_station     27491\n",
              "pm2_5                          426428\n",
              "date                                7\n",
              "dtype: int64"
            ]
          },
          "metadata": {
            "tags": []
          },
          "execution_count": 26
        }
      ]
    },
    {
      "cell_type": "code",
      "metadata": {
        "id": "G3MnNwTihJpf"
      },
      "source": [
        "data.drop(['stn_code','agency','sampling_date','location_monitoring_station'],axis=1,inplace=True)\n"
      ],
      "execution_count": 27,
      "outputs": []
    },
    {
      "cell_type": "code",
      "metadata": {
        "id": "TRJPCrVShMhQ",
        "outputId": "62b1ba65-05dc-4277-cd2e-24239939ad7c",
        "colab": {
          "base_uri": "https://localhost:8080/",
          "height": 195
        }
      },
      "source": [
        "data.head(5)\n"
      ],
      "execution_count": 28,
      "outputs": [
        {
          "output_type": "execute_result",
          "data": {
            "text/html": [
              "<div>\n",
              "<style scoped>\n",
              "    .dataframe tbody tr th:only-of-type {\n",
              "        vertical-align: middle;\n",
              "    }\n",
              "\n",
              "    .dataframe tbody tr th {\n",
              "        vertical-align: top;\n",
              "    }\n",
              "\n",
              "    .dataframe thead th {\n",
              "        text-align: right;\n",
              "    }\n",
              "</style>\n",
              "<table border=\"1\" class=\"dataframe\">\n",
              "  <thead>\n",
              "    <tr style=\"text-align: right;\">\n",
              "      <th></th>\n",
              "      <th>state</th>\n",
              "      <th>location</th>\n",
              "      <th>type</th>\n",
              "      <th>so2</th>\n",
              "      <th>no2</th>\n",
              "      <th>rspm</th>\n",
              "      <th>spm</th>\n",
              "      <th>pm2_5</th>\n",
              "      <th>date</th>\n",
              "    </tr>\n",
              "  </thead>\n",
              "  <tbody>\n",
              "    <tr>\n",
              "      <th>0</th>\n",
              "      <td>Andhra Pradesh</td>\n",
              "      <td>Hyderabad</td>\n",
              "      <td>Residential, Rural and other Areas</td>\n",
              "      <td>4.8</td>\n",
              "      <td>17.4</td>\n",
              "      <td>NaN</td>\n",
              "      <td>NaN</td>\n",
              "      <td>NaN</td>\n",
              "      <td>1990-02-01</td>\n",
              "    </tr>\n",
              "    <tr>\n",
              "      <th>1</th>\n",
              "      <td>Andhra Pradesh</td>\n",
              "      <td>Hyderabad</td>\n",
              "      <td>Industrial Area</td>\n",
              "      <td>3.1</td>\n",
              "      <td>7.0</td>\n",
              "      <td>NaN</td>\n",
              "      <td>NaN</td>\n",
              "      <td>NaN</td>\n",
              "      <td>1990-02-01</td>\n",
              "    </tr>\n",
              "    <tr>\n",
              "      <th>2</th>\n",
              "      <td>Andhra Pradesh</td>\n",
              "      <td>Hyderabad</td>\n",
              "      <td>Residential, Rural and other Areas</td>\n",
              "      <td>6.2</td>\n",
              "      <td>28.5</td>\n",
              "      <td>NaN</td>\n",
              "      <td>NaN</td>\n",
              "      <td>NaN</td>\n",
              "      <td>1990-02-01</td>\n",
              "    </tr>\n",
              "    <tr>\n",
              "      <th>3</th>\n",
              "      <td>Andhra Pradesh</td>\n",
              "      <td>Hyderabad</td>\n",
              "      <td>Residential, Rural and other Areas</td>\n",
              "      <td>6.3</td>\n",
              "      <td>14.7</td>\n",
              "      <td>NaN</td>\n",
              "      <td>NaN</td>\n",
              "      <td>NaN</td>\n",
              "      <td>1990-03-01</td>\n",
              "    </tr>\n",
              "    <tr>\n",
              "      <th>4</th>\n",
              "      <td>Andhra Pradesh</td>\n",
              "      <td>Hyderabad</td>\n",
              "      <td>Industrial Area</td>\n",
              "      <td>4.7</td>\n",
              "      <td>7.5</td>\n",
              "      <td>NaN</td>\n",
              "      <td>NaN</td>\n",
              "      <td>NaN</td>\n",
              "      <td>1990-03-01</td>\n",
              "    </tr>\n",
              "  </tbody>\n",
              "</table>\n",
              "</div>"
            ],
            "text/plain": [
              "            state   location  ... pm2_5        date\n",
              "0  Andhra Pradesh  Hyderabad  ...   NaN  1990-02-01\n",
              "1  Andhra Pradesh  Hyderabad  ...   NaN  1990-02-01\n",
              "2  Andhra Pradesh  Hyderabad  ...   NaN  1990-02-01\n",
              "3  Andhra Pradesh  Hyderabad  ...   NaN  1990-03-01\n",
              "4  Andhra Pradesh  Hyderabad  ...   NaN  1990-03-01\n",
              "\n",
              "[5 rows x 9 columns]"
            ]
          },
          "metadata": {
            "tags": []
          },
          "execution_count": 28
        }
      ]
    },
    {
      "cell_type": "markdown",
      "metadata": {
        "id": "Xk80XLE5hbKs"
      },
      "source": [
        "**ANALYZING MISSING VALUES**"
      ]
    },
    {
      "cell_type": "code",
      "metadata": {
        "id": "uGASR0O8hRDY",
        "outputId": "4310ec5d-bcc7-43bd-b1a6-0c58b1000025",
        "colab": {
          "base_uri": "https://localhost:8080/"
        }
      },
      "source": [
        "total = data.isnull().sum().sort_values(ascending=False)\n",
        "total.head()\n"
      ],
      "execution_count": 29,
      "outputs": [
        {
          "output_type": "execute_result",
          "data": {
            "text/plain": [
              "pm2_5    426428\n",
              "spm      237387\n",
              "rspm      40222\n",
              "so2       34646\n",
              "no2       16233\n",
              "dtype: int64"
            ]
          },
          "metadata": {
            "tags": []
          },
          "execution_count": 29
        }
      ]
    },
    {
      "cell_type": "code",
      "metadata": {
        "id": "YNXrclkIhkd4",
        "outputId": "63a160c0-1d9f-4864-da67-485c2bb570f3",
        "colab": {
          "base_uri": "https://localhost:8080/",
          "height": 195
        }
      },
      "source": [
        "percent = (data.isnull().sum()/data.isnull().count()*100).sort_values(ascending=False)\n",
        "missing_data = pd.concat([total, percent], axis=1, keys=['Total', 'Percent'])\n",
        "missing_data.head()\n"
      ],
      "execution_count": 30,
      "outputs": [
        {
          "output_type": "execute_result",
          "data": {
            "text/html": [
              "<div>\n",
              "<style scoped>\n",
              "    .dataframe tbody tr th:only-of-type {\n",
              "        vertical-align: middle;\n",
              "    }\n",
              "\n",
              "    .dataframe tbody tr th {\n",
              "        vertical-align: top;\n",
              "    }\n",
              "\n",
              "    .dataframe thead th {\n",
              "        text-align: right;\n",
              "    }\n",
              "</style>\n",
              "<table border=\"1\" class=\"dataframe\">\n",
              "  <thead>\n",
              "    <tr style=\"text-align: right;\">\n",
              "      <th></th>\n",
              "      <th>Total</th>\n",
              "      <th>Percent</th>\n",
              "    </tr>\n",
              "  </thead>\n",
              "  <tbody>\n",
              "    <tr>\n",
              "      <th>pm2_5</th>\n",
              "      <td>426428</td>\n",
              "      <td>97.862497</td>\n",
              "    </tr>\n",
              "    <tr>\n",
              "      <th>spm</th>\n",
              "      <td>237387</td>\n",
              "      <td>54.478797</td>\n",
              "    </tr>\n",
              "    <tr>\n",
              "      <th>rspm</th>\n",
              "      <td>40222</td>\n",
              "      <td>9.230692</td>\n",
              "    </tr>\n",
              "    <tr>\n",
              "      <th>so2</th>\n",
              "      <td>34646</td>\n",
              "      <td>7.951035</td>\n",
              "    </tr>\n",
              "    <tr>\n",
              "      <th>no2</th>\n",
              "      <td>16233</td>\n",
              "      <td>3.725370</td>\n",
              "    </tr>\n",
              "  </tbody>\n",
              "</table>\n",
              "</div>"
            ],
            "text/plain": [
              "        Total    Percent\n",
              "pm2_5  426428  97.862497\n",
              "spm    237387  54.478797\n",
              "rspm    40222   9.230692\n",
              "so2     34646   7.951035\n",
              "no2     16233   3.725370"
            ]
          },
          "metadata": {
            "tags": []
          },
          "execution_count": 30
        }
      ]
    },
    {
      "cell_type": "code",
      "metadata": {
        "id": "KNr9sJm5ikFE",
        "outputId": "530d3bbd-21ff-49d8-a3b6-b710a876226f",
        "colab": {
          "base_uri": "https://localhost:8080/",
          "height": 327
        }
      },
      "source": [
        "sns.barplot(x=missing_data.index, y=missing_data['Percent'])\n",
        "plt.xlabel('Features', fontsize=20)\n",
        "plt.ylabel('Percent of missing values', fontsize=20)\n",
        "plt.title('Percent missing data by feature', fontsize=20)"
      ],
      "execution_count": 32,
      "outputs": [
        {
          "output_type": "execute_result",
          "data": {
            "text/plain": [
              "Text(0.5, 1.0, 'Percent missing data by feature')"
            ]
          },
          "metadata": {
            "tags": []
          },
          "execution_count": 32
        },
        {
          "output_type": "display_data",
          "data": {
            "image/png": "[encoded data removed]",
            "text/plain": [
              "<Figure size 432x288 with 1 Axes>"
            ]
          },
          "metadata": {
            "tags": [],
            "needs_background": "light"
          }
        }
      ]
    },
    {
      "cell_type": "markdown",
      "metadata": {
        "id": "HXidST2_iKIH"
      },
      "source": [
        "**DISTRIBUTIONS BY STATES**"
      ]
    },
    {
      "cell_type": "code",
      "metadata": {
        "id": "WKNIwFPAiEAr",
        "outputId": "c10730f4-afe1-4937-9d72-b7109d4a6401",
        "colab": {
          "base_uri": "https://localhost:8080/",
          "height": 1000
        }
      },
      "source": [
        "data.groupby('state')[['spm','pm2_5','rspm','so2','no2']].mean()\n"
      ],
      "execution_count": 31,
      "outputs": [
        {
          "output_type": "execute_result",
          "data": {
            "text/html": [
              "<div>\n",
              "<style scoped>\n",
              "    .dataframe tbody tr th:only-of-type {\n",
              "        vertical-align: middle;\n",
              "    }\n",
              "\n",
              "    .dataframe tbody tr th {\n",
              "        vertical-align: top;\n",
              "    }\n",
              "\n",
              "    .dataframe thead th {\n",
              "        text-align: right;\n",
              "    }\n",
              "</style>\n",
              "<table border=\"1\" class=\"dataframe\">\n",
              "  <thead>\n",
              "    <tr style=\"text-align: right;\">\n",
              "      <th></th>\n",
              "      <th>spm</th>\n",
              "      <th>pm2_5</th>\n",
              "      <th>rspm</th>\n",
              "      <th>so2</th>\n",
              "      <th>no2</th>\n",
              "    </tr>\n",
              "    <tr>\n",
              "      <th>state</th>\n",
              "      <th></th>\n",
              "      <th></th>\n",
              "      <th></th>\n",
              "      <th></th>\n",
              "      <th></th>\n",
              "    </tr>\n",
              "  </thead>\n",
              "  <tbody>\n",
              "    <tr>\n",
              "      <th>Andhra Pradesh</th>\n",
              "      <td>200.260378</td>\n",
              "      <td>NaN</td>\n",
              "      <td>78.182824</td>\n",
              "      <td>7.284845</td>\n",
              "      <td>21.704451</td>\n",
              "    </tr>\n",
              "    <tr>\n",
              "      <th>Arunachal Pradesh</th>\n",
              "      <td>NaN</td>\n",
              "      <td>NaN</td>\n",
              "      <td>76.629213</td>\n",
              "      <td>3.179104</td>\n",
              "      <td>5.469697</td>\n",
              "    </tr>\n",
              "    <tr>\n",
              "      <th>Assam</th>\n",
              "      <td>153.355386</td>\n",
              "      <td>NaN</td>\n",
              "      <td>93.724912</td>\n",
              "      <td>6.723263</td>\n",
              "      <td>14.793691</td>\n",
              "    </tr>\n",
              "    <tr>\n",
              "      <th>Bihar</th>\n",
              "      <td>276.917416</td>\n",
              "      <td>NaN</td>\n",
              "      <td>123.705176</td>\n",
              "      <td>19.381476</td>\n",
              "      <td>36.575525</td>\n",
              "    </tr>\n",
              "    <tr>\n",
              "      <th>Chandigarh</th>\n",
              "      <td>206.056150</td>\n",
              "      <td>NaN</td>\n",
              "      <td>96.587079</td>\n",
              "      <td>2.676986</td>\n",
              "      <td>18.619404</td>\n",
              "    </tr>\n",
              "    <tr>\n",
              "      <th>Chhattisgarh</th>\n",
              "      <td>231.290969</td>\n",
              "      <td>NaN</td>\n",
              "      <td>126.472399</td>\n",
              "      <td>12.846609</td>\n",
              "      <td>24.815961</td>\n",
              "    </tr>\n",
              "    <tr>\n",
              "      <th>Dadra &amp; Nagar Haveli</th>\n",
              "      <td>170.545024</td>\n",
              "      <td>30.511628</td>\n",
              "      <td>76.536530</td>\n",
              "      <td>8.939587</td>\n",
              "      <td>18.293959</td>\n",
              "    </tr>\n",
              "    <tr>\n",
              "      <th>Daman &amp; Diu</th>\n",
              "      <td>145.681416</td>\n",
              "      <td>27.886364</td>\n",
              "      <td>73.749431</td>\n",
              "      <td>8.192958</td>\n",
              "      <td>16.168926</td>\n",
              "    </tr>\n",
              "    <tr>\n",
              "      <th>Delhi</th>\n",
              "      <td>399.402088</td>\n",
              "      <td>95.113208</td>\n",
              "      <td>196.639771</td>\n",
              "      <td>8.737273</td>\n",
              "      <td>53.489147</td>\n",
              "    </tr>\n",
              "    <tr>\n",
              "      <th>Goa</th>\n",
              "      <td>67.254193</td>\n",
              "      <td>18.855612</td>\n",
              "      <td>61.212766</td>\n",
              "      <td>6.827913</td>\n",
              "      <td>12.506337</td>\n",
              "    </tr>\n",
              "    <tr>\n",
              "      <th>Gujarat</th>\n",
              "      <td>191.567930</td>\n",
              "      <td>30.729696</td>\n",
              "      <td>98.244510</td>\n",
              "      <td>16.656343</td>\n",
              "      <td>24.065631</td>\n",
              "    </tr>\n",
              "    <tr>\n",
              "      <th>Haryana</th>\n",
              "      <td>268.264804</td>\n",
              "      <td>NaN</td>\n",
              "      <td>149.860537</td>\n",
              "      <td>14.064957</td>\n",
              "      <td>23.428311</td>\n",
              "    </tr>\n",
              "    <tr>\n",
              "      <th>Himachal Pradesh</th>\n",
              "      <td>208.575630</td>\n",
              "      <td>NaN</td>\n",
              "      <td>91.870202</td>\n",
              "      <td>2.667013</td>\n",
              "      <td>13.658688</td>\n",
              "    </tr>\n",
              "    <tr>\n",
              "      <th>Jammu &amp; Kashmir</th>\n",
              "      <td>196.221053</td>\n",
              "      <td>NaN</td>\n",
              "      <td>117.449483</td>\n",
              "      <td>7.180521</td>\n",
              "      <td>12.213181</td>\n",
              "    </tr>\n",
              "    <tr>\n",
              "      <th>Jharkhand</th>\n",
              "      <td>277.940746</td>\n",
              "      <td>NaN</td>\n",
              "      <td>168.517763</td>\n",
              "      <td>23.485794</td>\n",
              "      <td>43.366341</td>\n",
              "    </tr>\n",
              "    <tr>\n",
              "      <th>Karnataka</th>\n",
              "      <td>168.001743</td>\n",
              "      <td>NaN</td>\n",
              "      <td>79.371801</td>\n",
              "      <td>10.223099</td>\n",
              "      <td>22.702837</td>\n",
              "    </tr>\n",
              "    <tr>\n",
              "      <th>Kerala</th>\n",
              "      <td>84.419791</td>\n",
              "      <td>NaN</td>\n",
              "      <td>50.636064</td>\n",
              "      <td>5.322350</td>\n",
              "      <td>14.421889</td>\n",
              "    </tr>\n",
              "    <tr>\n",
              "      <th>Lakshadweep</th>\n",
              "      <td>NaN</td>\n",
              "      <td>NaN</td>\n",
              "      <td>NaN</td>\n",
              "      <td>NaN</td>\n",
              "      <td>NaN</td>\n",
              "    </tr>\n",
              "    <tr>\n",
              "      <th>Madhya Pradesh</th>\n",
              "      <td>210.067545</td>\n",
              "      <td>65.064565</td>\n",
              "      <td>114.717967</td>\n",
              "      <td>11.587410</td>\n",
              "      <td>18.639596</td>\n",
              "    </tr>\n",
              "    <tr>\n",
              "      <th>Maharashtra</th>\n",
              "      <td>205.255823</td>\n",
              "      <td>NaN</td>\n",
              "      <td>101.479608</td>\n",
              "      <td>17.366863</td>\n",
              "      <td>32.115370</td>\n",
              "    </tr>\n",
              "    <tr>\n",
              "      <th>Manipur</th>\n",
              "      <td>158.657895</td>\n",
              "      <td>NaN</td>\n",
              "      <td>69.815789</td>\n",
              "      <td>3.900000</td>\n",
              "      <td>20.173684</td>\n",
              "    </tr>\n",
              "    <tr>\n",
              "      <th>Meghalaya</th>\n",
              "      <td>78.002445</td>\n",
              "      <td>NaN</td>\n",
              "      <td>68.988442</td>\n",
              "      <td>8.955908</td>\n",
              "      <td>10.659706</td>\n",
              "    </tr>\n",
              "    <tr>\n",
              "      <th>Mizoram</th>\n",
              "      <td>87.833333</td>\n",
              "      <td>NaN</td>\n",
              "      <td>42.716466</td>\n",
              "      <td>2.085009</td>\n",
              "      <td>6.682171</td>\n",
              "    </tr>\n",
              "    <tr>\n",
              "      <th>Nagaland</th>\n",
              "      <td>133.311449</td>\n",
              "      <td>NaN</td>\n",
              "      <td>83.357027</td>\n",
              "      <td>2.059736</td>\n",
              "      <td>8.947265</td>\n",
              "    </tr>\n",
              "    <tr>\n",
              "      <th>Odisha</th>\n",
              "      <td>167.609844</td>\n",
              "      <td>42.204089</td>\n",
              "      <td>83.619824</td>\n",
              "      <td>5.275874</td>\n",
              "      <td>16.899568</td>\n",
              "    </tr>\n",
              "    <tr>\n",
              "      <th>Puducherry</th>\n",
              "      <td>95.598188</td>\n",
              "      <td>NaN</td>\n",
              "      <td>43.418217</td>\n",
              "      <td>11.970639</td>\n",
              "      <td>15.279496</td>\n",
              "    </tr>\n",
              "    <tr>\n",
              "      <th>Punjab</th>\n",
              "      <td>244.918926</td>\n",
              "      <td>NaN</td>\n",
              "      <td>173.493711</td>\n",
              "      <td>10.628598</td>\n",
              "      <td>28.085846</td>\n",
              "    </tr>\n",
              "    <tr>\n",
              "      <th>Rajasthan</th>\n",
              "      <td>300.735397</td>\n",
              "      <td>NaN</td>\n",
              "      <td>142.016832</td>\n",
              "      <td>7.665725</td>\n",
              "      <td>30.441008</td>\n",
              "    </tr>\n",
              "    <tr>\n",
              "      <th>Sikkim</th>\n",
              "      <td>75.000000</td>\n",
              "      <td>NaN</td>\n",
              "      <td>32.000000</td>\n",
              "      <td>19.800000</td>\n",
              "      <td>26.800000</td>\n",
              "    </tr>\n",
              "    <tr>\n",
              "      <th>Tamil Nadu</th>\n",
              "      <td>126.729064</td>\n",
              "      <td>29.550441</td>\n",
              "      <td>66.585638</td>\n",
              "      <td>11.315134</td>\n",
              "      <td>21.601202</td>\n",
              "    </tr>\n",
              "    <tr>\n",
              "      <th>Telangana</th>\n",
              "      <td>NaN</td>\n",
              "      <td>43.968927</td>\n",
              "      <td>85.043008</td>\n",
              "      <td>5.418609</td>\n",
              "      <td>23.864005</td>\n",
              "    </tr>\n",
              "    <tr>\n",
              "      <th>Tripura</th>\n",
              "      <td>NaN</td>\n",
              "      <td>NaN</td>\n",
              "      <td>NaN</td>\n",
              "      <td>NaN</td>\n",
              "      <td>NaN</td>\n",
              "    </tr>\n",
              "    <tr>\n",
              "      <th>Uttar Pradesh</th>\n",
              "      <td>372.663688</td>\n",
              "      <td>NaN</td>\n",
              "      <td>176.952308</td>\n",
              "      <td>12.528500</td>\n",
              "      <td>27.610095</td>\n",
              "    </tr>\n",
              "    <tr>\n",
              "      <th>Uttarakhand</th>\n",
              "      <td>306.758923</td>\n",
              "      <td>NaN</td>\n",
              "      <td>148.978906</td>\n",
              "      <td>24.372957</td>\n",
              "      <td>26.938090</td>\n",
              "    </tr>\n",
              "    <tr>\n",
              "      <th>Uttaranchal</th>\n",
              "      <td>283.335714</td>\n",
              "      <td>NaN</td>\n",
              "      <td>121.694340</td>\n",
              "      <td>24.697736</td>\n",
              "      <td>27.163019</td>\n",
              "    </tr>\n",
              "    <tr>\n",
              "      <th>West Bengal</th>\n",
              "      <td>233.506524</td>\n",
              "      <td>64.890625</td>\n",
              "      <td>115.039909</td>\n",
              "      <td>12.608766</td>\n",
              "      <td>59.075731</td>\n",
              "    </tr>\n",
              "    <tr>\n",
              "      <th>andaman-and-nicobar-islands</th>\n",
              "      <td>NaN</td>\n",
              "      <td>NaN</td>\n",
              "      <td>NaN</td>\n",
              "      <td>NaN</td>\n",
              "      <td>NaN</td>\n",
              "    </tr>\n",
              "  </tbody>\n",
              "</table>\n",
              "</div>"
            ],
            "text/plain": [
              "                                    spm      pm2_5  ...        so2        no2\n",
              "state                                               ...                      \n",
              "Andhra Pradesh               200.260378        NaN  ...   7.284845  21.704451\n",
              "Arunachal Pradesh                   NaN        NaN  ...   3.179104   5.469697\n",
              "Assam                        153.355386        NaN  ...   6.723263  14.793691\n",
              "Bihar                        276.917416        NaN  ...  19.381476  36.575525\n",
              "Chandigarh                   206.056150        NaN  ...   2.676986  18.619404\n",
              "Chhattisgarh                 231.290969        NaN  ...  12.846609  24.815961\n",
              "Dadra & Nagar Haveli         170.545024  30.511628  ...   8.939587  18.293959\n",
              "Daman & Diu                  145.681416  27.886364  ...   8.192958  16.168926\n",
              "Delhi                        399.402088  95.113208  ...   8.737273  53.489147\n",
              "Goa                           67.254193  18.855612  ...   6.827913  12.506337\n",
              "Gujarat                      191.567930  30.729696  ...  16.656343  24.065631\n",
              "Haryana                      268.264804        NaN  ...  14.064957  23.428311\n",
              "Himachal Pradesh             208.575630        NaN  ...   2.667013  13.658688\n",
              "Jammu & Kashmir              196.221053        NaN  ...   7.180521  12.213181\n",
              "Jharkhand                    277.940746        NaN  ...  23.485794  43.366341\n",
              "Karnataka                    168.001743        NaN  ...  10.223099  22.702837\n",
              "Kerala                        84.419791        NaN  ...   5.322350  14.421889\n",
              "Lakshadweep                         NaN        NaN  ...        NaN        NaN\n",
              "Madhya Pradesh               210.067545  65.064565  ...  11.587410  18.639596\n",
              "Maharashtra                  205.255823        NaN  ...  17.366863  32.115370\n",
              "Manipur                      158.657895        NaN  ...   3.900000  20.173684\n",
              "Meghalaya                     78.002445        NaN  ...   8.955908  10.659706\n",
              "Mizoram                       87.833333        NaN  ...   2.085009   6.682171\n",
              "Nagaland                     133.311449        NaN  ...   2.059736   8.947265\n",
              "Odisha                       167.609844  42.204089  ...   5.275874  16.899568\n",
              "Puducherry                    95.598188        NaN  ...  11.970639  15.279496\n",
              "Punjab                       244.918926        NaN  ...  10.628598  28.085846\n",
              "Rajasthan                    300.735397        NaN  ...   7.665725  30.441008\n",
              "Sikkim                        75.000000        NaN  ...  19.800000  26.800000\n",
              "Tamil Nadu                   126.729064  29.550441  ...  11.315134  21.601202\n",
              "Telangana                           NaN  43.968927  ...   5.418609  23.864005\n",
              "Tripura                             NaN        NaN  ...        NaN        NaN\n",
              "Uttar Pradesh                372.663688        NaN  ...  12.528500  27.610095\n",
              "Uttarakhand                  306.758923        NaN  ...  24.372957  26.938090\n",
              "Uttaranchal                  283.335714        NaN  ...  24.697736  27.163019\n",
              "West Bengal                  233.506524  64.890625  ...  12.608766  59.075731\n",
              "andaman-and-nicobar-islands         NaN        NaN  ...        NaN        NaN\n",
              "\n",
              "[37 rows x 5 columns]"
            ]
          },
          "metadata": {
            "tags": []
          },
          "execution_count": 31
        }
      ]
    },
    {
      "cell_type": "markdown",
      "metadata": {
        "id": "K9Un2h3ei0LG"
      },
      "source": [
        "**REPLACING VALUES BY MEAN**"
      ]
    },
    {
      "cell_type": "code",
      "metadata": {
        "id": "s2cpm0X8iSPr"
      },
      "source": [
        "grp_state = data.groupby('state')\n",
        "def impute_mean_by_state(series):\n",
        "    return series.fillna(series.mean())\n"
      ],
      "execution_count": 34,
      "outputs": []
    },
    {
      "cell_type": "code",
      "metadata": {
        "id": "KCYzjdDKi4hu"
      },
      "source": [
        "data['rspm']=grp_state['rspm'].transform(impute_mean_by_state)  \n",
        "data['so2']=grp_state['so2'].transform(impute_mean_by_state)\n",
        "data['no2']=grp_state['no2'].transform(impute_mean_by_state)\n",
        "data['spm']=grp_state['spm'].transform(impute_mean_by_state)\n",
        "data['pm2_5']=grp_state['pm2_5'].transform(impute_mean_by_state)"
      ],
      "execution_count": 35,
      "outputs": []
    },
    {
      "cell_type": "code",
      "metadata": {
        "id": "iX05U5d8jFbU",
        "outputId": "8b61c4cb-6ff1-4c84-c789-2ab671f4a545",
        "colab": {
          "base_uri": "https://localhost:8080/",
          "height": 284
        }
      },
      "source": [
        "data.describe()\n"
      ],
      "execution_count": 36,
      "outputs": [
        {
          "output_type": "execute_result",
          "data": {
            "text/html": [
              "<div>\n",
              "<style scoped>\n",
              "    .dataframe tbody tr th:only-of-type {\n",
              "        vertical-align: middle;\n",
              "    }\n",
              "\n",
              "    .dataframe tbody tr th {\n",
              "        vertical-align: top;\n",
              "    }\n",
              "\n",
              "    .dataframe thead th {\n",
              "        text-align: right;\n",
              "    }\n",
              "</style>\n",
              "<table border=\"1\" class=\"dataframe\">\n",
              "  <thead>\n",
              "    <tr style=\"text-align: right;\">\n",
              "      <th></th>\n",
              "      <th>so2</th>\n",
              "      <th>no2</th>\n",
              "      <th>rspm</th>\n",
              "      <th>spm</th>\n",
              "      <th>pm2_5</th>\n",
              "    </tr>\n",
              "  </thead>\n",
              "  <tbody>\n",
              "    <tr>\n",
              "      <th>count</th>\n",
              "      <td>435739.000000</td>\n",
              "      <td>435739.000000</td>\n",
              "      <td>435739.000000</td>\n",
              "      <td>431671.000000</td>\n",
              "      <td>123689.000000</td>\n",
              "    </tr>\n",
              "    <tr>\n",
              "      <th>mean</th>\n",
              "      <td>10.589141</td>\n",
              "      <td>25.663170</td>\n",
              "      <td>109.680907</td>\n",
              "      <td>215.198748</td>\n",
              "      <td>48.317274</td>\n",
              "    </tr>\n",
              "    <tr>\n",
              "      <th>std</th>\n",
              "      <td>10.863679</td>\n",
              "      <td>18.271145</td>\n",
              "      <td>72.519399</td>\n",
              "      <td>117.470157</td>\n",
              "      <td>21.455206</td>\n",
              "    </tr>\n",
              "    <tr>\n",
              "      <th>min</th>\n",
              "      <td>0.000000</td>\n",
              "      <td>0.000000</td>\n",
              "      <td>0.000000</td>\n",
              "      <td>0.000000</td>\n",
              "      <td>3.000000</td>\n",
              "    </tr>\n",
              "    <tr>\n",
              "      <th>25%</th>\n",
              "      <td>4.800000</td>\n",
              "      <td>14.000000</td>\n",
              "      <td>59.000000</td>\n",
              "      <td>142.000000</td>\n",
              "      <td>30.729696</td>\n",
              "    </tr>\n",
              "    <tr>\n",
              "      <th>50%</th>\n",
              "      <td>8.000000</td>\n",
              "      <td>21.800000</td>\n",
              "      <td>93.000000</td>\n",
              "      <td>205.255823</td>\n",
              "      <td>42.204089</td>\n",
              "    </tr>\n",
              "    <tr>\n",
              "      <th>75%</th>\n",
              "      <td>13.000000</td>\n",
              "      <td>32.000000</td>\n",
              "      <td>142.016832</td>\n",
              "      <td>248.000000</td>\n",
              "      <td>64.890625</td>\n",
              "    </tr>\n",
              "    <tr>\n",
              "      <th>max</th>\n",
              "      <td>909.000000</td>\n",
              "      <td>876.000000</td>\n",
              "      <td>6307.033333</td>\n",
              "      <td>3380.000000</td>\n",
              "      <td>504.000000</td>\n",
              "    </tr>\n",
              "  </tbody>\n",
              "</table>\n",
              "</div>"
            ],
            "text/plain": [
              "                 so2            no2  ...            spm          pm2_5\n",
              "count  435739.000000  435739.000000  ...  431671.000000  123689.000000\n",
              "mean       10.589141      25.663170  ...     215.198748      48.317274\n",
              "std        10.863679      18.271145  ...     117.470157      21.455206\n",
              "min         0.000000       0.000000  ...       0.000000       3.000000\n",
              "25%         4.800000      14.000000  ...     142.000000      30.729696\n",
              "50%         8.000000      21.800000  ...     205.255823      42.204089\n",
              "75%        13.000000      32.000000  ...     248.000000      64.890625\n",
              "max       909.000000     876.000000  ...    3380.000000     504.000000\n",
              "\n",
              "[8 rows x 5 columns]"
            ]
          },
          "metadata": {
            "tags": []
          },
          "execution_count": 36
        }
      ]
    },
    {
      "cell_type": "markdown",
      "metadata": {
        "id": "rL3Ga8hDjguF"
      },
      "source": [
        " **CALCULATE AIR QUALITY INDEX FOR SO2**"
      ]
    },
    {
      "cell_type": "code",
      "metadata": {
        "id": "1ThVVy1KjIKt",
        "outputId": "786eedf1-8a12-407a-ed9d-63aa2e1cdd04",
        "colab": {
          "base_uri": "https://localhost:8080/",
          "height": 195
        }
      },
      "source": [
        "def cal_SOi(so2):\n",
        "    si=0\n",
        "    if (so2<=40):\n",
        "     si= so2*(50/40)\n",
        "    elif (so2>40 and so2<=80):\n",
        "     si= 50+(so2-40)*(50/40)\n",
        "    elif (so2>80 and so2<=380):\n",
        "     si= 100+(so2-80)*(100/300)\n",
        "    elif (so2>380 and so2<=800):\n",
        "     si= 200+(so2-380)*(100/420)\n",
        "    elif (so2>800 and so2<=1600):\n",
        "     si= 300+(so2-800)*(100/800)\n",
        "    elif (so2>1600):\n",
        "     si= 400+(so2-1600)*(100/800)\n",
        "    return si\n",
        "data['SOi']=data['so2'].apply(cal_SOi)\n",
        "df= data[['so2','SOi']]\n",
        "df.head()"
      ],
      "execution_count": 37,
      "outputs": [
        {
          "output_type": "execute_result",
          "data": {
            "text/html": [
              "<div>\n",
              "<style scoped>\n",
              "    .dataframe tbody tr th:only-of-type {\n",
              "        vertical-align: middle;\n",
              "    }\n",
              "\n",
              "    .dataframe tbody tr th {\n",
              "        vertical-align: top;\n",
              "    }\n",
              "\n",
              "    .dataframe thead th {\n",
              "        text-align: right;\n",
              "    }\n",
              "</style>\n",
              "<table border=\"1\" class=\"dataframe\">\n",
              "  <thead>\n",
              "    <tr style=\"text-align: right;\">\n",
              "      <th></th>\n",
              "      <th>so2</th>\n",
              "      <th>SOi</th>\n",
              "    </tr>\n",
              "  </thead>\n",
              "  <tbody>\n",
              "    <tr>\n",
              "      <th>0</th>\n",
              "      <td>4.8</td>\n",
              "      <td>6.000</td>\n",
              "    </tr>\n",
              "    <tr>\n",
              "      <th>1</th>\n",
              "      <td>3.1</td>\n",
              "      <td>3.875</td>\n",
              "    </tr>\n",
              "    <tr>\n",
              "      <th>2</th>\n",
              "      <td>6.2</td>\n",
              "      <td>7.750</td>\n",
              "    </tr>\n",
              "    <tr>\n",
              "      <th>3</th>\n",
              "      <td>6.3</td>\n",
              "      <td>7.875</td>\n",
              "    </tr>\n",
              "    <tr>\n",
              "      <th>4</th>\n",
              "      <td>4.7</td>\n",
              "      <td>5.875</td>\n",
              "    </tr>\n",
              "  </tbody>\n",
              "</table>\n",
              "</div>"
            ],
            "text/plain": [
              "   so2    SOi\n",
              "0  4.8  6.000\n",
              "1  3.1  3.875\n",
              "2  6.2  7.750\n",
              "3  6.3  7.875\n",
              "4  4.7  5.875"
            ]
          },
          "metadata": {
            "tags": []
          },
          "execution_count": 37
        }
      ]
    },
    {
      "cell_type": "markdown",
      "metadata": {
        "id": "eJQbGBMbjwI-"
      },
      "source": [
        "**CALCULATE AIR QUALITY INDEX FOR NO2**"
      ]
    },
    {
      "cell_type": "code",
      "metadata": {
        "id": "cK-fVEPhjrz_",
        "outputId": "1f2c2e09-d4d8-41b3-aeee-fdcac1da8e5b",
        "colab": {
          "base_uri": "https://localhost:8080/",
          "height": 195
        }
      },
      "source": [
        "\n",
        "def cal_Noi(no2):\n",
        "    ni=0\n",
        "    if(no2<=40):\n",
        "     ni= no2*50/40\n",
        "    elif(no2>40 and no2<=80):\n",
        "     ni= 50+(no2-40)*(50/40)\n",
        "    elif(no2>80 and no2<=180):\n",
        "     ni= 100+(no2-80)*(100/100)\n",
        "    elif(no2>180 and no2<=280):\n",
        "     ni= 200+(no2-180)*(100/100)\n",
        "    elif(no2>280 and no2<=400):\n",
        "     ni= 300+(no2-280)*(100/120)\n",
        "    else:\n",
        "     ni= 400+(no2-400)*(100/120)\n",
        "    return ni\n",
        "data['Noi']=data['no2'].apply(cal_Noi)\n",
        "df= data[['no2','Noi']]\n",
        "df.head()"
      ],
      "execution_count": 38,
      "outputs": [
        {
          "output_type": "execute_result",
          "data": {
            "text/html": [
              "<div>\n",
              "<style scoped>\n",
              "    .dataframe tbody tr th:only-of-type {\n",
              "        vertical-align: middle;\n",
              "    }\n",
              "\n",
              "    .dataframe tbody tr th {\n",
              "        vertical-align: top;\n",
              "    }\n",
              "\n",
              "    .dataframe thead th {\n",
              "        text-align: right;\n",
              "    }\n",
              "</style>\n",
              "<table border=\"1\" class=\"dataframe\">\n",
              "  <thead>\n",
              "    <tr style=\"text-align: right;\">\n",
              "      <th></th>\n",
              "      <th>no2</th>\n",
              "      <th>Noi</th>\n",
              "    </tr>\n",
              "  </thead>\n",
              "  <tbody>\n",
              "    <tr>\n",
              "      <th>0</th>\n",
              "      <td>17.4</td>\n",
              "      <td>21.750</td>\n",
              "    </tr>\n",
              "    <tr>\n",
              "      <th>1</th>\n",
              "      <td>7.0</td>\n",
              "      <td>8.750</td>\n",
              "    </tr>\n",
              "    <tr>\n",
              "      <th>2</th>\n",
              "      <td>28.5</td>\n",
              "      <td>35.625</td>\n",
              "    </tr>\n",
              "    <tr>\n",
              "      <th>3</th>\n",
              "      <td>14.7</td>\n",
              "      <td>18.375</td>\n",
              "    </tr>\n",
              "    <tr>\n",
              "      <th>4</th>\n",
              "      <td>7.5</td>\n",
              "      <td>9.375</td>\n",
              "    </tr>\n",
              "  </tbody>\n",
              "</table>\n",
              "</div>"
            ],
            "text/plain": [
              "    no2     Noi\n",
              "0  17.4  21.750\n",
              "1   7.0   8.750\n",
              "2  28.5  35.625\n",
              "3  14.7  18.375\n",
              "4   7.5   9.375"
            ]
          },
          "metadata": {
            "tags": []
          },
          "execution_count": 38
        }
      ]
    },
    {
      "cell_type": "markdown",
      "metadata": {
        "id": "mD7CoF-AkAPm"
      },
      "source": [
        "**CALCULATE AIR QUALITY INDEX FOR RSPM**"
      ]
    },
    {
      "cell_type": "code",
      "metadata": {
        "id": "2yJRx1eFjzbw",
        "outputId": "b87f8ca7-d460-42e2-e54e-da210c1ee864",
        "colab": {
          "base_uri": "https://localhost:8080/",
          "height": 195
        }
      },
      "source": [
        "\n",
        "def cal_RSPMi(rspm):\n",
        "    rpi=0\n",
        "    if(rspm<=100):\n",
        "     rpi = rspm\n",
        "    elif(rspm>=101 and rspm<=150):\n",
        "     rpi= 101+(rspm-101)*((200-101)/(150-101))\n",
        "    elif(rspm>=151 and rspm<=350):\n",
        "     ni= 201+(rspm-151)*((300-201)/(350-151))\n",
        "    elif(rspm>=351 and rspm<=420):\n",
        "     ni= 301+(rspm-351)*((400-301)/(420-351))\n",
        "    elif(rspm>420):\n",
        "     ni= 401+(rspm-420)*((500-401)/(420-351))\n",
        "    return rpi\n",
        "data['RSPMi']=data['rspm'].apply(cal_RSPMi)\n",
        "df= data[['rspm','RSPMi']]\n",
        "df.head()"
      ],
      "execution_count": 39,
      "outputs": [
        {
          "output_type": "execute_result",
          "data": {
            "text/html": [
              "<div>\n",
              "<style scoped>\n",
              "    .dataframe tbody tr th:only-of-type {\n",
              "        vertical-align: middle;\n",
              "    }\n",
              "\n",
              "    .dataframe tbody tr th {\n",
              "        vertical-align: top;\n",
              "    }\n",
              "\n",
              "    .dataframe thead th {\n",
              "        text-align: right;\n",
              "    }\n",
              "</style>\n",
              "<table border=\"1\" class=\"dataframe\">\n",
              "  <thead>\n",
              "    <tr style=\"text-align: right;\">\n",
              "      <th></th>\n",
              "      <th>rspm</th>\n",
              "      <th>RSPMi</th>\n",
              "    </tr>\n",
              "  </thead>\n",
              "  <tbody>\n",
              "    <tr>\n",
              "      <th>0</th>\n",
              "      <td>78.182824</td>\n",
              "      <td>78.182824</td>\n",
              "    </tr>\n",
              "    <tr>\n",
              "      <th>1</th>\n",
              "      <td>78.182824</td>\n",
              "      <td>78.182824</td>\n",
              "    </tr>\n",
              "    <tr>\n",
              "      <th>2</th>\n",
              "      <td>78.182824</td>\n",
              "      <td>78.182824</td>\n",
              "    </tr>\n",
              "    <tr>\n",
              "      <th>3</th>\n",
              "      <td>78.182824</td>\n",
              "      <td>78.182824</td>\n",
              "    </tr>\n",
              "    <tr>\n",
              "      <th>4</th>\n",
              "      <td>78.182824</td>\n",
              "      <td>78.182824</td>\n",
              "    </tr>\n",
              "  </tbody>\n",
              "</table>\n",
              "</div>"
            ],
            "text/plain": [
              "        rspm      RSPMi\n",
              "0  78.182824  78.182824\n",
              "1  78.182824  78.182824\n",
              "2  78.182824  78.182824\n",
              "3  78.182824  78.182824\n",
              "4  78.182824  78.182824"
            ]
          },
          "metadata": {
            "tags": []
          },
          "execution_count": 39
        }
      ]
    },
    {
      "cell_type": "markdown",
      "metadata": {
        "id": "cwG5QUMukOwx"
      },
      "source": [
        " **CALCULATE AIR QUALITY INDEX FOR SPM**"
      ]
    },
    {
      "cell_type": "code",
      "metadata": {
        "id": "XVjkpxOvkGui",
        "outputId": "45e4433e-2e81-4ed3-8a2e-346cbd4c5ce0",
        "colab": {
          "base_uri": "https://localhost:8080/",
          "height": 195
        }
      },
      "source": [
        "\n",
        "def cal_SPMi(spm):\n",
        "    spi=0\n",
        "    if(spm<=50):\n",
        "     spi=spm*50/50\n",
        "    elif(spm>50 and spm<=100):\n",
        "     spi=50+(spm-50)*(50/50)\n",
        "    elif(spm>100 and spm<=250):\n",
        "     spi= 100+(spm-100)*(100/150)\n",
        "    elif(spm>250 and spm<=350):\n",
        "     spi=200+(spm-250)*(100/100)\n",
        "    elif(spm>350 and spm<=430):\n",
        "     spi=300+(spm-350)*(100/80)\n",
        "    else:\n",
        "     spi=400+(spm-430)*(100/430)\n",
        "    return spi\n",
        "   \n",
        "data['SPMi']=data['spm'].apply(cal_SPMi)\n",
        "df= data[['spm','SPMi']]\n",
        "df.head()"
      ],
      "execution_count": 40,
      "outputs": [
        {
          "output_type": "execute_result",
          "data": {
            "text/html": [
              "<div>\n",
              "<style scoped>\n",
              "    .dataframe tbody tr th:only-of-type {\n",
              "        vertical-align: middle;\n",
              "    }\n",
              "\n",
              "    .dataframe tbody tr th {\n",
              "        vertical-align: top;\n",
              "    }\n",
              "\n",
              "    .dataframe thead th {\n",
              "        text-align: right;\n",
              "    }\n",
              "</style>\n",
              "<table border=\"1\" class=\"dataframe\">\n",
              "  <thead>\n",
              "    <tr style=\"text-align: right;\">\n",
              "      <th></th>\n",
              "      <th>spm</th>\n",
              "      <th>SPMi</th>\n",
              "    </tr>\n",
              "  </thead>\n",
              "  <tbody>\n",
              "    <tr>\n",
              "      <th>0</th>\n",
              "      <td>200.260378</td>\n",
              "      <td>166.840252</td>\n",
              "    </tr>\n",
              "    <tr>\n",
              "      <th>1</th>\n",
              "      <td>200.260378</td>\n",
              "      <td>166.840252</td>\n",
              "    </tr>\n",
              "    <tr>\n",
              "      <th>2</th>\n",
              "      <td>200.260378</td>\n",
              "      <td>166.840252</td>\n",
              "    </tr>\n",
              "    <tr>\n",
              "      <th>3</th>\n",
              "      <td>200.260378</td>\n",
              "      <td>166.840252</td>\n",
              "    </tr>\n",
              "    <tr>\n",
              "      <th>4</th>\n",
              "      <td>200.260378</td>\n",
              "      <td>166.840252</td>\n",
              "    </tr>\n",
              "  </tbody>\n",
              "</table>\n",
              "</div>"
            ],
            "text/plain": [
              "          spm        SPMi\n",
              "0  200.260378  166.840252\n",
              "1  200.260378  166.840252\n",
              "2  200.260378  166.840252\n",
              "3  200.260378  166.840252\n",
              "4  200.260378  166.840252"
            ]
          },
          "metadata": {
            "tags": []
          },
          "execution_count": 40
        }
      ]
    },
    {
      "cell_type": "markdown",
      "metadata": {
        "id": "8SfAirVZkamJ"
      },
      "source": [
        "**CALCULATE AIR QUALITY INDEX FOR PM 2.5**"
      ]
    },
    {
      "cell_type": "code",
      "metadata": {
        "id": "AWagSup5kUBt",
        "outputId": "d0614d31-1d89-40c6-bbee-76bf6b390fa1",
        "colab": {
          "base_uri": "https://localhost:8080/",
          "height": 343
        }
      },
      "source": [
        "\n",
        "def cal_pmi(pm2_5):\n",
        "    pmi=0\n",
        "    if(pm2_5<=50):\n",
        "     pmi=pm2_5*(50/50)\n",
        "    elif(pm2_5>50 and pm2_5<=100):\n",
        "     pmi=50+(pm2_5-50)*(50/50)\n",
        "    elif(pm2_5>100 and pm2_5<=250):\n",
        "     pmi= 100+(pm2_5-100)*(100/150)\n",
        "    elif(pm2_5>250 and pm2_5<=350):\n",
        "     pmi=200+(pm2_5-250)*(100/100)\n",
        "    elif(pm2_5>350 and pm2_5<=450):\n",
        "     pmi=300+(pm2_5-350)*(100/100)\n",
        "    else:\n",
        "     pmi=400+(pm2_5-430)*(100/80)\n",
        "    return pmi\n",
        "data['PMi']=data['pm2_5'].apply(cal_pmi)\n",
        "df= data[['pm2_5','PMi']]\n",
        "df.head()\n",
        "df.tail(10)"
      ],
      "execution_count": 45,
      "outputs": [
        {
          "output_type": "execute_result",
          "data": {
            "text/html": [
              "<div>\n",
              "<style scoped>\n",
              "    .dataframe tbody tr th:only-of-type {\n",
              "        vertical-align: middle;\n",
              "    }\n",
              "\n",
              "    .dataframe tbody tr th {\n",
              "        vertical-align: top;\n",
              "    }\n",
              "\n",
              "    .dataframe thead th {\n",
              "        text-align: right;\n",
              "    }\n",
              "</style>\n",
              "<table border=\"1\" class=\"dataframe\">\n",
              "  <thead>\n",
              "    <tr style=\"text-align: right;\">\n",
              "      <th></th>\n",
              "      <th>pm2_5</th>\n",
              "      <th>PMi</th>\n",
              "    </tr>\n",
              "  </thead>\n",
              "  <tbody>\n",
              "    <tr>\n",
              "      <th>435732</th>\n",
              "      <td>64.890625</td>\n",
              "      <td>64.890625</td>\n",
              "    </tr>\n",
              "    <tr>\n",
              "      <th>435733</th>\n",
              "      <td>64.890625</td>\n",
              "      <td>64.890625</td>\n",
              "    </tr>\n",
              "    <tr>\n",
              "      <th>435734</th>\n",
              "      <td>64.890625</td>\n",
              "      <td>64.890625</td>\n",
              "    </tr>\n",
              "    <tr>\n",
              "      <th>435735</th>\n",
              "      <td>64.890625</td>\n",
              "      <td>64.890625</td>\n",
              "    </tr>\n",
              "    <tr>\n",
              "      <th>435736</th>\n",
              "      <td>64.890625</td>\n",
              "      <td>64.890625</td>\n",
              "    </tr>\n",
              "    <tr>\n",
              "      <th>435737</th>\n",
              "      <td>64.890625</td>\n",
              "      <td>64.890625</td>\n",
              "    </tr>\n",
              "    <tr>\n",
              "      <th>435738</th>\n",
              "      <td>64.890625</td>\n",
              "      <td>64.890625</td>\n",
              "    </tr>\n",
              "    <tr>\n",
              "      <th>435739</th>\n",
              "      <td>NaN</td>\n",
              "      <td>NaN</td>\n",
              "    </tr>\n",
              "    <tr>\n",
              "      <th>435740</th>\n",
              "      <td>NaN</td>\n",
              "      <td>NaN</td>\n",
              "    </tr>\n",
              "    <tr>\n",
              "      <th>435741</th>\n",
              "      <td>NaN</td>\n",
              "      <td>NaN</td>\n",
              "    </tr>\n",
              "  </tbody>\n",
              "</table>\n",
              "</div>"
            ],
            "text/plain": [
              "            pm2_5        PMi\n",
              "435732  64.890625  64.890625\n",
              "435733  64.890625  64.890625\n",
              "435734  64.890625  64.890625\n",
              "435735  64.890625  64.890625\n",
              "435736  64.890625  64.890625\n",
              "435737  64.890625  64.890625\n",
              "435738  64.890625  64.890625\n",
              "435739        NaN        NaN\n",
              "435740        NaN        NaN\n",
              "435741        NaN        NaN"
            ]
          },
          "metadata": {
            "tags": []
          },
          "execution_count": 45
        }
      ]
    },
    {
      "cell_type": "code",
      "metadata": {
        "id": "Cid42_FLkeW3",
        "outputId": "26c56135-06b8-4eeb-f12f-1030b0848f71",
        "colab": {
          "base_uri": "https://localhost:8080/",
          "height": 195
        }
      },
      "source": [
        "\n",
        "def cal_aqi(si,ni,pmi):\n",
        "    aqi=0\n",
        "    if(si>ni and si>pmi):\n",
        "     aqi=si\n",
        "    if(ni>si and ni>pmi):\n",
        "     aqi=ni\n",
        "    if(pmi>si and pmi>ni):\n",
        "     aqi=pmi\n",
        "    return aqi\n",
        "\n",
        "data['AQI']=data.apply(lambda x:cal_aqi(x['SOi'],x['Noi'],x['PMi']), axis=1)\n",
        "df= data[['state','SOi','Noi','PMi','AQI']]\n",
        "df.head()"
      ],
      "execution_count": 47,
      "outputs": [
        {
          "output_type": "execute_result",
          "data": {
            "text/html": [
              "<div>\n",
              "<style scoped>\n",
              "    .dataframe tbody tr th:only-of-type {\n",
              "        vertical-align: middle;\n",
              "    }\n",
              "\n",
              "    .dataframe tbody tr th {\n",
              "        vertical-align: top;\n",
              "    }\n",
              "\n",
              "    .dataframe thead th {\n",
              "        text-align: right;\n",
              "    }\n",
              "</style>\n",
              "<table border=\"1\" class=\"dataframe\">\n",
              "  <thead>\n",
              "    <tr style=\"text-align: right;\">\n",
              "      <th></th>\n",
              "      <th>state</th>\n",
              "      <th>SOi</th>\n",
              "      <th>Noi</th>\n",
              "      <th>PMi</th>\n",
              "      <th>AQI</th>\n",
              "    </tr>\n",
              "  </thead>\n",
              "  <tbody>\n",
              "    <tr>\n",
              "      <th>0</th>\n",
              "      <td>Andhra Pradesh</td>\n",
              "      <td>6.000</td>\n",
              "      <td>21.750</td>\n",
              "      <td>NaN</td>\n",
              "      <td>0.0</td>\n",
              "    </tr>\n",
              "    <tr>\n",
              "      <th>1</th>\n",
              "      <td>Andhra Pradesh</td>\n",
              "      <td>3.875</td>\n",
              "      <td>8.750</td>\n",
              "      <td>NaN</td>\n",
              "      <td>0.0</td>\n",
              "    </tr>\n",
              "    <tr>\n",
              "      <th>2</th>\n",
              "      <td>Andhra Pradesh</td>\n",
              "      <td>7.750</td>\n",
              "      <td>35.625</td>\n",
              "      <td>NaN</td>\n",
              "      <td>0.0</td>\n",
              "    </tr>\n",
              "    <tr>\n",
              "      <th>3</th>\n",
              "      <td>Andhra Pradesh</td>\n",
              "      <td>7.875</td>\n",
              "      <td>18.375</td>\n",
              "      <td>NaN</td>\n",
              "      <td>0.0</td>\n",
              "    </tr>\n",
              "    <tr>\n",
              "      <th>4</th>\n",
              "      <td>Andhra Pradesh</td>\n",
              "      <td>5.875</td>\n",
              "      <td>9.375</td>\n",
              "      <td>NaN</td>\n",
              "      <td>0.0</td>\n",
              "    </tr>\n",
              "  </tbody>\n",
              "</table>\n",
              "</div>"
            ],
            "text/plain": [
              "            state    SOi     Noi  PMi  AQI\n",
              "0  Andhra Pradesh  6.000  21.750  NaN  0.0\n",
              "1  Andhra Pradesh  3.875   8.750  NaN  0.0\n",
              "2  Andhra Pradesh  7.750  35.625  NaN  0.0\n",
              "3  Andhra Pradesh  7.875  18.375  NaN  0.0\n",
              "4  Andhra Pradesh  5.875   9.375  NaN  0.0"
            ]
          },
          "metadata": {
            "tags": []
          },
          "execution_count": 47
        }
      ]
    },
    {
      "cell_type": "code",
      "metadata": {
        "id": "pobeIM6al0aD",
        "outputId": "bbd429e5-6661-4549-b28b-1a745ff20ce6",
        "colab": {
          "base_uri": "https://localhost:8080/",
          "height": 279
        }
      },
      "source": [
        "data.head()\n"
      ],
      "execution_count": 48,
      "outputs": [
        {
          "output_type": "execute_result",
          "data": {
            "text/html": [
              "<div>\n",
              "<style scoped>\n",
              "    .dataframe tbody tr th:only-of-type {\n",
              "        vertical-align: middle;\n",
              "    }\n",
              "\n",
              "    .dataframe tbody tr th {\n",
              "        vertical-align: top;\n",
              "    }\n",
              "\n",
              "    .dataframe thead th {\n",
              "        text-align: right;\n",
              "    }\n",
              "</style>\n",
              "<table border=\"1\" class=\"dataframe\">\n",
              "  <thead>\n",
              "    <tr style=\"text-align: right;\">\n",
              "      <th></th>\n",
              "      <th>state</th>\n",
              "      <th>location</th>\n",
              "      <th>type</th>\n",
              "      <th>so2</th>\n",
              "      <th>no2</th>\n",
              "      <th>rspm</th>\n",
              "      <th>spm</th>\n",
              "      <th>pm2_5</th>\n",
              "      <th>date</th>\n",
              "      <th>SOi</th>\n",
              "      <th>Noi</th>\n",
              "      <th>RSPMi</th>\n",
              "      <th>SPMi</th>\n",
              "      <th>PMi</th>\n",
              "      <th>AQI</th>\n",
              "    </tr>\n",
              "  </thead>\n",
              "  <tbody>\n",
              "    <tr>\n",
              "      <th>0</th>\n",
              "      <td>Andhra Pradesh</td>\n",
              "      <td>Hyderabad</td>\n",
              "      <td>Residential, Rural and other Areas</td>\n",
              "      <td>4.8</td>\n",
              "      <td>17.4</td>\n",
              "      <td>78.182824</td>\n",
              "      <td>200.260378</td>\n",
              "      <td>NaN</td>\n",
              "      <td>1990-02-01</td>\n",
              "      <td>6.000</td>\n",
              "      <td>21.750</td>\n",
              "      <td>78.182824</td>\n",
              "      <td>166.840252</td>\n",
              "      <td>NaN</td>\n",
              "      <td>0.0</td>\n",
              "    </tr>\n",
              "    <tr>\n",
              "      <th>1</th>\n",
              "      <td>Andhra Pradesh</td>\n",
              "      <td>Hyderabad</td>\n",
              "      <td>Industrial Area</td>\n",
              "      <td>3.1</td>\n",
              "      <td>7.0</td>\n",
              "      <td>78.182824</td>\n",
              "      <td>200.260378</td>\n",
              "      <td>NaN</td>\n",
              "      <td>1990-02-01</td>\n",
              "      <td>3.875</td>\n",
              "      <td>8.750</td>\n",
              "      <td>78.182824</td>\n",
              "      <td>166.840252</td>\n",
              "      <td>NaN</td>\n",
              "      <td>0.0</td>\n",
              "    </tr>\n",
              "    <tr>\n",
              "      <th>2</th>\n",
              "      <td>Andhra Pradesh</td>\n",
              "      <td>Hyderabad</td>\n",
              "      <td>Residential, Rural and other Areas</td>\n",
              "      <td>6.2</td>\n",
              "      <td>28.5</td>\n",
              "      <td>78.182824</td>\n",
              "      <td>200.260378</td>\n",
              "      <td>NaN</td>\n",
              "      <td>1990-02-01</td>\n",
              "      <td>7.750</td>\n",
              "      <td>35.625</td>\n",
              "      <td>78.182824</td>\n",
              "      <td>166.840252</td>\n",
              "      <td>NaN</td>\n",
              "      <td>0.0</td>\n",
              "    </tr>\n",
              "    <tr>\n",
              "      <th>3</th>\n",
              "      <td>Andhra Pradesh</td>\n",
              "      <td>Hyderabad</td>\n",
              "      <td>Residential, Rural and other Areas</td>\n",
              "      <td>6.3</td>\n",
              "      <td>14.7</td>\n",
              "      <td>78.182824</td>\n",
              "      <td>200.260378</td>\n",
              "      <td>NaN</td>\n",
              "      <td>1990-03-01</td>\n",
              "      <td>7.875</td>\n",
              "      <td>18.375</td>\n",
              "      <td>78.182824</td>\n",
              "      <td>166.840252</td>\n",
              "      <td>NaN</td>\n",
              "      <td>0.0</td>\n",
              "    </tr>\n",
              "    <tr>\n",
              "      <th>4</th>\n",
              "      <td>Andhra Pradesh</td>\n",
              "      <td>Hyderabad</td>\n",
              "      <td>Industrial Area</td>\n",
              "      <td>4.7</td>\n",
              "      <td>7.5</td>\n",
              "      <td>78.182824</td>\n",
              "      <td>200.260378</td>\n",
              "      <td>NaN</td>\n",
              "      <td>1990-03-01</td>\n",
              "      <td>5.875</td>\n",
              "      <td>9.375</td>\n",
              "      <td>78.182824</td>\n",
              "      <td>166.840252</td>\n",
              "      <td>NaN</td>\n",
              "      <td>0.0</td>\n",
              "    </tr>\n",
              "  </tbody>\n",
              "</table>\n",
              "</div>"
            ],
            "text/plain": [
              "            state   location  ... PMi  AQI\n",
              "0  Andhra Pradesh  Hyderabad  ... NaN  0.0\n",
              "1  Andhra Pradesh  Hyderabad  ... NaN  0.0\n",
              "2  Andhra Pradesh  Hyderabad  ... NaN  0.0\n",
              "3  Andhra Pradesh  Hyderabad  ... NaN  0.0\n",
              "4  Andhra Pradesh  Hyderabad  ... NaN  0.0\n",
              "\n",
              "[5 rows x 15 columns]"
            ]
          },
          "metadata": {
            "tags": []
          },
          "execution_count": 48
        }
      ]
    },
    {
      "cell_type": "markdown",
      "metadata": {
        "id": "gLEw7_t7mUXK"
      },
      "source": [
        "**DEFINING AQI RANGE**"
      ]
    },
    {
      "cell_type": "code",
      "metadata": {
        "id": "xYZUu27smOgb",
        "outputId": "95181317-1c92-49dd-b138-5d29e6a61e1a",
        "colab": {
          "base_uri": "https://localhost:8080/",
          "height": 279
        }
      },
      "source": [
        "def AQI_Range(x):\n",
        "    if x<=50:\n",
        "        return \"Good\"\n",
        "    elif x>50 and x<=100:\n",
        "        return \"Moderate\"\n",
        "    elif x>100 and x<=200:\n",
        "        return \"Poor\"\n",
        "    elif x>200 and x<=300:\n",
        "        return \"Unhealthy\"\n",
        "    elif x>300 and x<=400:\n",
        "        return \"Very unhealthy\"\n",
        "    elif x>400:\n",
        "        return \"Hazardous\"\n",
        "\n",
        "data['AQI_Range'] = data['AQI'] .apply(AQI_Range)\n",
        "data.head()"
      ],
      "execution_count": 49,
      "outputs": [
        {
          "output_type": "execute_result",
          "data": {
            "text/html": [
              "<div>\n",
              "<style scoped>\n",
              "    .dataframe tbody tr th:only-of-type {\n",
              "        vertical-align: middle;\n",
              "    }\n",
              "\n",
              "    .dataframe tbody tr th {\n",
              "        vertical-align: top;\n",
              "    }\n",
              "\n",
              "    .dataframe thead th {\n",
              "        text-align: right;\n",
              "    }\n",
              "</style>\n",
              "<table border=\"1\" class=\"dataframe\">\n",
              "  <thead>\n",
              "    <tr style=\"text-align: right;\">\n",
              "      <th></th>\n",
              "      <th>state</th>\n",
              "      <th>location</th>\n",
              "      <th>type</th>\n",
              "      <th>so2</th>\n",
              "      <th>no2</th>\n",
              "      <th>rspm</th>\n",
              "      <th>spm</th>\n",
              "      <th>pm2_5</th>\n",
              "      <th>date</th>\n",
              "      <th>SOi</th>\n",
              "      <th>Noi</th>\n",
              "      <th>RSPMi</th>\n",
              "      <th>SPMi</th>\n",
              "      <th>PMi</th>\n",
              "      <th>AQI</th>\n",
              "      <th>AQI_Range</th>\n",
              "    </tr>\n",
              "  </thead>\n",
              "  <tbody>\n",
              "    <tr>\n",
              "      <th>0</th>\n",
              "      <td>Andhra Pradesh</td>\n",
              "      <td>Hyderabad</td>\n",
              "      <td>Residential, Rural and other Areas</td>\n",
              "      <td>4.8</td>\n",
              "      <td>17.4</td>\n",
              "      <td>78.182824</td>\n",
              "      <td>200.260378</td>\n",
              "      <td>NaN</td>\n",
              "      <td>1990-02-01</td>\n",
              "      <td>6.000</td>\n",
              "      <td>21.750</td>\n",
              "      <td>78.182824</td>\n",
              "      <td>166.840252</td>\n",
              "      <td>NaN</td>\n",
              "      <td>0.0</td>\n",
              "      <td>Good</td>\n",
              "    </tr>\n",
              "    <tr>\n",
              "      <th>1</th>\n",
              "      <td>Andhra Pradesh</td>\n",
              "      <td>Hyderabad</td>\n",
              "      <td>Industrial Area</td>\n",
              "      <td>3.1</td>\n",
              "      <td>7.0</td>\n",
              "      <td>78.182824</td>\n",
              "      <td>200.260378</td>\n",
              "      <td>NaN</td>\n",
              "      <td>1990-02-01</td>\n",
              "      <td>3.875</td>\n",
              "      <td>8.750</td>\n",
              "      <td>78.182824</td>\n",
              "      <td>166.840252</td>\n",
              "      <td>NaN</td>\n",
              "      <td>0.0</td>\n",
              "      <td>Good</td>\n",
              "    </tr>\n",
              "    <tr>\n",
              "      <th>2</th>\n",
              "      <td>Andhra Pradesh</td>\n",
              "      <td>Hyderabad</td>\n",
              "      <td>Residential, Rural and other Areas</td>\n",
              "      <td>6.2</td>\n",
              "      <td>28.5</td>\n",
              "      <td>78.182824</td>\n",
              "      <td>200.260378</td>\n",
              "      <td>NaN</td>\n",
              "      <td>1990-02-01</td>\n",
              "      <td>7.750</td>\n",
              "      <td>35.625</td>\n",
              "      <td>78.182824</td>\n",
              "      <td>166.840252</td>\n",
              "      <td>NaN</td>\n",
              "      <td>0.0</td>\n",
              "      <td>Good</td>\n",
              "    </tr>\n",
              "    <tr>\n",
              "      <th>3</th>\n",
              "      <td>Andhra Pradesh</td>\n",
              "      <td>Hyderabad</td>\n",
              "      <td>Residential, Rural and other Areas</td>\n",
              "      <td>6.3</td>\n",
              "      <td>14.7</td>\n",
              "      <td>78.182824</td>\n",
              "      <td>200.260378</td>\n",
              "      <td>NaN</td>\n",
              "      <td>1990-03-01</td>\n",
              "      <td>7.875</td>\n",
              "      <td>18.375</td>\n",
              "      <td>78.182824</td>\n",
              "      <td>166.840252</td>\n",
              "      <td>NaN</td>\n",
              "      <td>0.0</td>\n",
              "      <td>Good</td>\n",
              "    </tr>\n",
              "    <tr>\n",
              "      <th>4</th>\n",
              "      <td>Andhra Pradesh</td>\n",
              "      <td>Hyderabad</td>\n",
              "      <td>Industrial Area</td>\n",
              "      <td>4.7</td>\n",
              "      <td>7.5</td>\n",
              "      <td>78.182824</td>\n",
              "      <td>200.260378</td>\n",
              "      <td>NaN</td>\n",
              "      <td>1990-03-01</td>\n",
              "      <td>5.875</td>\n",
              "      <td>9.375</td>\n",
              "      <td>78.182824</td>\n",
              "      <td>166.840252</td>\n",
              "      <td>NaN</td>\n",
              "      <td>0.0</td>\n",
              "      <td>Good</td>\n",
              "    </tr>\n",
              "  </tbody>\n",
              "</table>\n",
              "</div>"
            ],
            "text/plain": [
              "            state   location  ...  AQI  AQI_Range\n",
              "0  Andhra Pradesh  Hyderabad  ...  0.0       Good\n",
              "1  Andhra Pradesh  Hyderabad  ...  0.0       Good\n",
              "2  Andhra Pradesh  Hyderabad  ...  0.0       Good\n",
              "3  Andhra Pradesh  Hyderabad  ...  0.0       Good\n",
              "4  Andhra Pradesh  Hyderabad  ...  0.0       Good\n",
              "\n",
              "[5 rows x 16 columns]"
            ]
          },
          "metadata": {
            "tags": []
          },
          "execution_count": 49
        }
      ]
    },
    {
      "cell_type": "code",
      "metadata": {
        "id": "80SrSatymaqD",
        "outputId": "36c4f681-d4be-426d-8f97-ca456768364b",
        "colab": {
          "base_uri": "https://localhost:8080/"
        }
      },
      "source": [
        "d=data\n",
        "data=data.dropna(subset=['spm'])\n",
        "data=data.dropna(subset=['pm2_5'])\n",
        "data.isna().sum() "
      ],
      "execution_count": 50,
      "outputs": [
        {
          "output_type": "execute_result",
          "data": {
            "text/plain": [
              "state           0\n",
              "location        0\n",
              "type         1925\n",
              "so2             0\n",
              "no2             0\n",
              "rspm            0\n",
              "spm             0\n",
              "pm2_5           0\n",
              "date            1\n",
              "SOi             0\n",
              "Noi             0\n",
              "RSPMi           0\n",
              "SPMi            0\n",
              "PMi             0\n",
              "AQI             0\n",
              "AQI_Range       0\n",
              "dtype: int64"
            ]
          },
          "metadata": {
            "tags": []
          },
          "execution_count": 50
        }
      ]
    },
    {
      "cell_type": "markdown",
      "metadata": {
        "id": "lne6CKO8nFj8"
      },
      "source": [
        "**PREDICTION USING LINEAR REGRESSION**"
      ]
    },
    {
      "cell_type": "code",
      "metadata": {
        "id": "36FVSzb2mx_b"
      },
      "source": [
        "from sklearn.model_selection import train_test_split\n",
        "from sklearn.linear_model import LinearRegression\n",
        "from sklearn.metrics import mean_squared_log_error\n",
        "from sklearn.metrics import mean_squared_error\n",
        "from sklearn.metrics import r2_score, mean_squared_error\n",
        "from sklearn.model_selection import KFold\n",
        "from sklearn.model_selection import cross_val_score"
      ],
      "execution_count": 51,
      "outputs": []
    },
    {
      "cell_type": "code",
      "metadata": {
        "id": "OU1H1uvVnQgO",
        "outputId": "3bee6c4d-1ea4-43c6-bddd-160871c9b7ca",
        "colab": {
          "base_uri": "https://localhost:8080/"
        }
      },
      "source": [
        "X1= data[['so2','no2','pm2_5']]\n",
        "y1 = data['AQI']\n",
        "y1.tail()"
      ],
      "execution_count": 53,
      "outputs": [
        {
          "output_type": "execute_result",
          "data": {
            "text/plain": [
              "435734    64.890625\n",
              "435735    64.890625\n",
              "435736    64.890625\n",
              "435737    64.890625\n",
              "435738    64.890625\n",
              "Name: AQI, dtype: float64"
            ]
          },
          "metadata": {
            "tags": []
          },
          "execution_count": 53
        }
      ]
    },
    {
      "cell_type": "code",
      "metadata": {
        "id": "nAkeRZC6nbGt"
      },
      "source": [
        "X_train1, X_test1, y_train1, y_test1 = train_test_split(X1,y1, test_size=0.2,random_state=101)\n"
      ],
      "execution_count": 54,
      "outputs": []
    },
    {
      "cell_type": "code",
      "metadata": {
        "id": "Jl72oFA2nsle",
        "outputId": "b866ac82-b3c5-4e5b-fcf0-cc8b39345049",
        "colab": {
          "base_uri": "https://localhost:8080/",
          "height": 195
        }
      },
      "source": [
        "X_train1.head()\n"
      ],
      "execution_count": 55,
      "outputs": [
        {
          "output_type": "execute_result",
          "data": {
            "text/html": [
              "<div>\n",
              "<style scoped>\n",
              "    .dataframe tbody tr th:only-of-type {\n",
              "        vertical-align: middle;\n",
              "    }\n",
              "\n",
              "    .dataframe tbody tr th {\n",
              "        vertical-align: top;\n",
              "    }\n",
              "\n",
              "    .dataframe thead th {\n",
              "        text-align: right;\n",
              "    }\n",
              "</style>\n",
              "<table border=\"1\" class=\"dataframe\">\n",
              "  <thead>\n",
              "    <tr style=\"text-align: right;\">\n",
              "      <th></th>\n",
              "      <th>so2</th>\n",
              "      <th>no2</th>\n",
              "      <th>pm2_5</th>\n",
              "    </tr>\n",
              "  </thead>\n",
              "  <tbody>\n",
              "    <tr>\n",
              "      <th>360028</th>\n",
              "      <td>3.0</td>\n",
              "      <td>32.0</td>\n",
              "      <td>29.550441</td>\n",
              "    </tr>\n",
              "    <tr>\n",
              "      <th>434684</th>\n",
              "      <td>2.0</td>\n",
              "      <td>37.0</td>\n",
              "      <td>64.890625</td>\n",
              "    </tr>\n",
              "    <tr>\n",
              "      <th>64493</th>\n",
              "      <td>10.6</td>\n",
              "      <td>18.7</td>\n",
              "      <td>30.511628</td>\n",
              "    </tr>\n",
              "    <tr>\n",
              "      <th>433906</th>\n",
              "      <td>4.0</td>\n",
              "      <td>44.0</td>\n",
              "      <td>64.890625</td>\n",
              "    </tr>\n",
              "    <tr>\n",
              "      <th>183595</th>\n",
              "      <td>27.5</td>\n",
              "      <td>20.8</td>\n",
              "      <td>65.064565</td>\n",
              "    </tr>\n",
              "  </tbody>\n",
              "</table>\n",
              "</div>"
            ],
            "text/plain": [
              "         so2   no2      pm2_5\n",
              "360028   3.0  32.0  29.550441\n",
              "434684   2.0  37.0  64.890625\n",
              "64493   10.6  18.7  30.511628\n",
              "433906   4.0  44.0  64.890625\n",
              "183595  27.5  20.8  65.064565"
            ]
          },
          "metadata": {
            "tags": []
          },
          "execution_count": 55
        }
      ]
    },
    {
      "cell_type": "code",
      "metadata": {
        "id": "tZF7Xyi-nxqR",
        "outputId": "11a9427a-ca0f-4379-f4b8-1d591b149e16",
        "colab": {
          "base_uri": "https://localhost:8080/"
        }
      },
      "source": [
        "LR1 = LinearRegression()\n",
        "LR1.fit(X_train1, y_train1)"
      ],
      "execution_count": 56,
      "outputs": [
        {
          "output_type": "execute_result",
          "data": {
            "text/plain": [
              "LinearRegression(copy_X=True, fit_intercept=True, n_jobs=None, normalize=False)"
            ]
          },
          "metadata": {
            "tags": []
          },
          "execution_count": 56
        }
      ]
    },
    {
      "cell_type": "code",
      "metadata": {
        "id": "oqQSmgjRn2tu"
      },
      "source": [
        "prediction1 = LR1.predict(X_test1)\n"
      ],
      "execution_count": 57,
      "outputs": []
    },
    {
      "cell_type": "code",
      "metadata": {
        "id": "J6beSkVzn6MR",
        "outputId": "a7ca6aae-bd2d-4ac9-ea7c-cb4af3e9152f",
        "colab": {
          "base_uri": "https://localhost:8080/",
          "height": 296
        }
      },
      "source": [
        "\n",
        "plt.scatter(y_test1,prediction1) #scatter plot for actual and predicted values\n",
        "plt.xlabel('Y Test')\n",
        "plt.ylabel('Predicted Y')"
      ],
      "execution_count": 59,
      "outputs": [
        {
          "output_type": "execute_result",
          "data": {
            "text/plain": [
              "Text(0, 0.5, 'Predicted Y')"
            ]
          },
          "metadata": {
            "tags": []
          },
          "execution_count": 59
        },
        {
          "output_type": "display_data",
          "data": {
            "image/png": "[encoded data removed]",
            "text/plain": [
              "<Figure size 432x288 with 1 Axes>"
            ]
          },
          "metadata": {
            "tags": [],
            "needs_background": "light"
          }
        }
      ]
    },
    {
      "cell_type": "code",
      "metadata": {
        "id": "JKTBq1pcsnm-"
      },
      "source": [
        "with open('AQI_LR_model','wb') as f: #saving the model\n",
        "  pickle.dump(LR1,f)\n"
      ],
      "execution_count": 65,
      "outputs": []
    },
    {
      "cell_type": "code",
      "metadata": {
        "id": "PpAwoYPkxgWg"
      },
      "source": [
        "y_test1_np= np.array(y_test1)\n",
        "prediction1_np = np.array(prediction1)"
      ],
      "execution_count": 68,
      "outputs": []
    },
    {
      "cell_type": "code",
      "metadata": {
        "id": "EQmV4JINxymC",
        "outputId": "36c4833e-2586-4778-92fe-49e7adb6984d",
        "colab": {
          "base_uri": "https://localhost:8080/"
        }
      },
      "source": [
        "LR1.score(X_test1,y_test1) #92 percent accurate predictions"
      ],
      "execution_count": 70,
      "outputs": [
        {
          "output_type": "execute_result",
          "data": {
            "text/plain": [
              "0.9216102486522406"
            ]
          },
          "metadata": {
            "tags": []
          },
          "execution_count": 70
        }
      ]
    },
    {
      "cell_type": "code",
      "metadata": {
        "id": "wnXeQw7Mx1f-",
        "outputId": "2582012a-e98a-428d-b096-1c2b361c74d3",
        "colab": {
          "base_uri": "https://localhost:8080/"
        }
      },
      "source": [
        "print('R^2_Square:%.2f '% r2_score(y_test1, prediction1))\n",
        "print('Mean Square Error:%.2f '% np.sqrt(mean_squared_error(y_test1, prediction1)))"
      ],
      "execution_count": 72,
      "outputs": [
        {
          "output_type": "stream",
          "text": [
            "R^2_Square:0.92 \n",
            "Mean Square Error:8.01 \n"
          ],
          "name": "stdout"
        }
      ]
    },
    {
      "cell_type": "markdown",
      "metadata": {
        "id": "bbrmldbnyuG_"
      },
      "source": [
        "**Classification of AQI Using Random forest classifier** "
      ]
    },
    {
      "cell_type": "code",
      "metadata": {
        "id": "aBVjY6S6ySNZ"
      },
      "source": [
        "from sklearn.ensemble import RandomForestClassifier\n"
      ],
      "execution_count": 73,
      "outputs": []
    },
    {
      "cell_type": "code",
      "metadata": {
        "id": "c3IOPCUOzCGT"
      },
      "source": [
        "X2 = data[['SOi','Noi','pm2_5']]\n",
        "y2 = data['AQI_Range']\n",
        "X_train2, X_test2, y_train2, y_test2 = train_test_split(X2, y2, test_size=0.33, random_state=42)\n"
      ],
      "execution_count": 74,
      "outputs": []
    },
    {
      "cell_type": "code",
      "metadata": {
        "id": "lu5Jf7xW0FwR",
        "outputId": "6257e08e-d1b6-4e9e-fc9f-0dd4b6547f5a",
        "colab": {
          "base_uri": "https://localhost:8080/"
        }
      },
      "source": [
        "\n",
        "RFmodel = RandomForestClassifier(n_estimators=10)\n",
        "RFmodel.fit(X_train2,y_train2)"
      ],
      "execution_count": 76,
      "outputs": [
        {
          "output_type": "execute_result",
          "data": {
            "text/plain": [
              "RandomForestClassifier(bootstrap=True, ccp_alpha=0.0, class_weight=None,\n",
              "                       criterion='gini', max_depth=None, max_features='auto',\n",
              "                       max_leaf_nodes=None, max_samples=None,\n",
              "                       min_impurity_decrease=0.0, min_impurity_split=None,\n",
              "                       min_samples_leaf=1, min_samples_split=2,\n",
              "                       min_weight_fraction_leaf=0.0, n_estimators=10,\n",
              "                       n_jobs=None, oob_score=False, random_state=None,\n",
              "                       verbose=0, warm_start=False)"
            ]
          },
          "metadata": {
            "tags": []
          },
          "execution_count": 76
        }
      ]
    },
    {
      "cell_type": "code",
      "metadata": {
        "id": "-XJh5u5V0Orv",
        "outputId": "0e599ee2-aa90-4fe6-87ce-d48af754bf5d",
        "colab": {
          "base_uri": "https://localhost:8080/"
        }
      },
      "source": [
        "RFmodel.score(X_test2,y_test2) #yayyyy 99 % accuracy"
      ],
      "execution_count": 78,
      "outputs": [
        {
          "output_type": "execute_result",
          "data": {
            "text/plain": [
              "0.9997468674851284"
            ]
          },
          "metadata": {
            "tags": []
          },
          "execution_count": 78
        }
      ]
    },
    {
      "cell_type": "code",
      "metadata": {
        "id": "LSg8vZqb0VZY",
        "outputId": "9a54c636-0a2a-44b9-c026-c857f1e0808e",
        "colab": {
          "base_uri": "https://localhost:8080/",
          "height": 195
        }
      },
      "source": [
        "X_train2.head()\n"
      ],
      "execution_count": 80,
      "outputs": [
        {
          "output_type": "execute_result",
          "data": {
            "text/html": [
              "<div>\n",
              "<style scoped>\n",
              "    .dataframe tbody tr th:only-of-type {\n",
              "        vertical-align: middle;\n",
              "    }\n",
              "\n",
              "    .dataframe tbody tr th {\n",
              "        vertical-align: top;\n",
              "    }\n",
              "\n",
              "    .dataframe thead th {\n",
              "        text-align: right;\n",
              "    }\n",
              "</style>\n",
              "<table border=\"1\" class=\"dataframe\">\n",
              "  <thead>\n",
              "    <tr style=\"text-align: right;\">\n",
              "      <th></th>\n",
              "      <th>SOi</th>\n",
              "      <th>Noi</th>\n",
              "      <th>pm2_5</th>\n",
              "    </tr>\n",
              "  </thead>\n",
              "  <tbody>\n",
              "    <tr>\n",
              "      <th>360294</th>\n",
              "      <td>5.000000</td>\n",
              "      <td>30.000</td>\n",
              "      <td>29.550441</td>\n",
              "    </tr>\n",
              "    <tr>\n",
              "      <th>278096</th>\n",
              "      <td>7.250000</td>\n",
              "      <td>13.875</td>\n",
              "      <td>42.204089</td>\n",
              "    </tr>\n",
              "    <tr>\n",
              "      <th>277941</th>\n",
              "      <td>3.625000</td>\n",
              "      <td>32.875</td>\n",
              "      <td>42.204089</td>\n",
              "    </tr>\n",
              "    <tr>\n",
              "      <th>269637</th>\n",
              "      <td>22.875000</td>\n",
              "      <td>35.750</td>\n",
              "      <td>42.204089</td>\n",
              "    </tr>\n",
              "    <tr>\n",
              "      <th>272765</th>\n",
              "      <td>6.594842</td>\n",
              "      <td>15.875</td>\n",
              "      <td>42.204089</td>\n",
              "    </tr>\n",
              "  </tbody>\n",
              "</table>\n",
              "</div>"
            ],
            "text/plain": [
              "              SOi     Noi      pm2_5\n",
              "360294   5.000000  30.000  29.550441\n",
              "278096   7.250000  13.875  42.204089\n",
              "277941   3.625000  32.875  42.204089\n",
              "269637  22.875000  35.750  42.204089\n",
              "272765   6.594842  15.875  42.204089"
            ]
          },
          "metadata": {
            "tags": []
          },
          "execution_count": 80
        }
      ]
    },
    {
      "cell_type": "code",
      "metadata": {
        "id": "CnOS0qhh0kKj",
        "outputId": "d75f521a-6017-4bd5-ad2f-164b501e7b79",
        "colab": {
          "base_uri": "https://localhost:8080/"
        }
      },
      "source": [
        "RFmodel.predict([[10,40,290]]) #tried values for Delhi - seems perfect"
      ],
      "execution_count": 83,
      "outputs": [
        {
          "output_type": "execute_result",
          "data": {
            "text/plain": [
              "array(['Unhealthy'], dtype=object)"
            ]
          },
          "metadata": {
            "tags": []
          },
          "execution_count": 83
        }
      ]
    },
    {
      "cell_type": "code",
      "metadata": {
        "id": "MDZ81KUc1WAK"
      },
      "source": [
        "with open('AQI_RF_model','wb') as f: #saving the model\n",
        "  pickle.dump(RFmodel,f)"
      ],
      "execution_count": 84,
      "outputs": []
    },
    {
      "cell_type": "markdown",
      "metadata": {
        "id": "y1GwsJSC2mZW"
      },
      "source": [
        "**CONCLUSION**"
      ]
    },
    {
      "cell_type": "markdown",
      "metadata": {
        "id": "4ZYLDPui2php"
      },
      "source": [
        "\n",
        "\n",
        "*   AQI is highly correlated with all the independent variables(so2, no2, pm 2.5)\n",
        "*   AQI has been increasing over the years.\n",
        "\n",
        "\n"
      ]
    },
    {
      "cell_type": "code",
      "metadata": {
        "id": "dnI-yNsi2b1d"
      },
      "source": [
        ""
      ],
      "execution_count": null,
      "outputs": []
    }
  ]
}